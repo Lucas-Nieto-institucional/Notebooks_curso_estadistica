{
 "cells": [
  {
   "cell_type": "markdown",
   "id": "97570653",
   "metadata": {},
   "source": [
    "<img src = \"https://upload.wikimedia.org/wikipedia/commons/e/e2/Confidence-interval.svg\" width=\"540\"/>\n",
    "\n",
    "# Introducción a la probabilidad\n",
    "\n",
    "## Contenido\n",
    "\n",
    "1. Muestreo aleatorio simple, estratificado y sistemático de una población\n",
    "2. Interpretación de probabilidad, funciones de densidad, funciones de variables aleatorias. Distribuciones exponenciales, gaussianas, normales-logarítmicas, chi-cuadrado ($\\chi ^{2}$).\n",
    "3. Valores esperados, funciones binomiales y multinomiales, distribución de Poisson, distribución uniforme."
   ]
  },
  {
   "cell_type": "code",
   "execution_count": 1,
   "id": "60937a8a",
   "metadata": {},
   "outputs": [],
   "source": [
    "# Librerías\n",
    "import numpy as np\n",
    "import matplotlib.pyplot as plt\n",
    "import pandas as pd"
   ]
  },
  {
   "cell_type": "markdown",
   "id": "740d9fb9",
   "metadata": {},
   "source": [
    "# Clase 1: 06/23/2022\n",
    "\n",
    "## Conceptos clave:\n",
    "\n",
    "1. Población: El conjunto completo o \"universo\", en general no es posible tener acceso al conjunto.\n",
    "2. Muestra: Un subconjunto incompleto, se requiere que sea representativa para extraer conclusiones sobre la población completa.\n",
    "3. Estimadores estadísticos: Funciones matemáticas dependientes de la muestra.\n",
    "\n",
    "## Ejemplo 1: Escoger entre dos cajas\n"
   ]
  },
  {
   "cell_type": "code",
   "execution_count": 2,
   "id": "762b8f05",
   "metadata": {
    "scrolled": true
   },
   "outputs": [
    {
     "data": {
      "text/plain": [
       "20"
      ]
     },
     "execution_count": 2,
     "metadata": {},
     "output_type": "execute_result"
    }
   ],
   "source": [
    "data = np.array([1,2,2,1,1,1,1,2,2,1,1,2,2,2,1,2,2,2,1,2]) # Esta población es pequeña así que es igual a la muestra, pero  \n",
    "len(data)                                                  # conceptualmente no son iguales."
   ]
  },
  {
   "cell_type": "code",
   "execution_count": 3,
   "id": "2aa18ce1",
   "metadata": {
    "scrolled": true
   },
   "outputs": [
    {
     "data": {
      "image/png": "[encoded data removed]",
      "text/plain": [
       "<Figure size 432x288 with 1 Axes>"
      ]
     },
     "metadata": {
      "needs_background": "light"
     },
     "output_type": "display_data"
    }
   ],
   "source": [
    "plt.hist(data, bins = 2, ec = 'k') # bins = cajas ; ec = 'edge color'\n",
    "plt.grid()"
   ]
  },
  {
   "cell_type": "markdown",
   "id": "bff71050",
   "metadata": {},
   "source": [
    "La gráfica anterior es un [**histograma**](https://es.wikipedia.org/wiki/Histograma#Tipos_de_gráficos_relacionados_con_el_histograma) que representa la frecuencia absoluta por clase entre dos eventos, siendo el eje ordenado la frecuencia y el eje de abscizas las clases. En este caso la primera barra representa la frecuencia con la que fue escogida la caja 1, y la segunda barra representa la frecuencia con la que fue escogida la caja 2. En este experimento hubo sesgo por comentarios del experimentador y porque los participantes conocían las respuestas previas, incluso así las frecuencias de 1 y 2 son bastante cercanas.\n",
    "\n",
    "## Muestreo\n",
    "\n",
    "En poblaciones más grandes que no son accesibles, es necesario escoger muestras representativas para evitar sesgos y que las conclusiones extraídas de los datos sean lo más fiel posible a la realidad, para esto se utiliza el **muestreo**. estas son técnicas para escoger muestras representativas minimizando los sesgos, en todo muestreo hay posibilidad de sesgo y un margen de error. Hay  tipos de sesgos:\n",
    "\n",
    "- Aleatorio\n",
    "    - Simple\n",
    "    - Estratificado\n",
    "    \n",
    "## Ejemplo 2: Muestreo ponderado de asistentes a un evento"
   ]
  },
  {
   "cell_type": "code",
   "execution_count": 4,
   "id": "154c512a",
   "metadata": {
    "scrolled": true
   },
   "outputs": [
    {
     "data": {
      "text/html": [
       "<div>\n",
       "<style scoped>\n",
       "    .dataframe tbody tr th:only-of-type {\n",
       "        vertical-align: middle;\n",
       "    }\n",
       "\n",
       "    .dataframe tbody tr th {\n",
       "        vertical-align: top;\n",
       "    }\n",
       "\n",
       "    .dataframe thead th {\n",
       "        text-align: right;\n",
       "    }\n",
       "</style>\n",
       "<table border=\"1\" class=\"dataframe\">\n",
       "  <thead>\n",
       "    <tr style=\"text-align: right;\">\n",
       "      <th></th>\n",
       "      <th>Salon</th>\n",
       "      <th>Asistentes</th>\n",
       "    </tr>\n",
       "  </thead>\n",
       "  <tbody>\n",
       "    <tr>\n",
       "      <th>0</th>\n",
       "      <td>Salon_A</td>\n",
       "      <td>40</td>\n",
       "    </tr>\n",
       "    <tr>\n",
       "      <th>1</th>\n",
       "      <td>Salon_B</td>\n",
       "      <td>100</td>\n",
       "    </tr>\n",
       "    <tr>\n",
       "      <th>2</th>\n",
       "      <td>Salon_C</td>\n",
       "      <td>95</td>\n",
       "    </tr>\n",
       "    <tr>\n",
       "      <th>3</th>\n",
       "      <td>Salon_D</td>\n",
       "      <td>70</td>\n",
       "    </tr>\n",
       "    <tr>\n",
       "      <th>4</th>\n",
       "      <td>Salon_E</td>\n",
       "      <td>510</td>\n",
       "    </tr>\n",
       "    <tr>\n",
       "      <th>5</th>\n",
       "      <td>Salon_F</td>\n",
       "      <td>200</td>\n",
       "    </tr>\n",
       "    <tr>\n",
       "      <th>6</th>\n",
       "      <td>Salon_G</td>\n",
       "      <td>150</td>\n",
       "    </tr>\n",
       "    <tr>\n",
       "      <th>7</th>\n",
       "      <td>Salon_H</td>\n",
       "      <td>125</td>\n",
       "    </tr>\n",
       "    <tr>\n",
       "      <th>8</th>\n",
       "      <td>Salon_I</td>\n",
       "      <td>310</td>\n",
       "    </tr>\n",
       "    <tr>\n",
       "      <th>9</th>\n",
       "      <td>Salon_J</td>\n",
       "      <td>400</td>\n",
       "    </tr>\n",
       "  </tbody>\n",
       "</table>\n",
       "</div>"
      ],
      "text/plain": [
       "     Salon  Asistentes\n",
       "0  Salon_A          40\n",
       "1  Salon_B         100\n",
       "2  Salon_C          95\n",
       "3  Salon_D          70\n",
       "4  Salon_E         510\n",
       "5  Salon_F         200\n",
       "6  Salon_G         150\n",
       "7  Salon_H         125\n",
       "8  Salon_I         310\n",
       "9  Salon_J         400"
      ]
     },
     "execution_count": 4,
     "metadata": {},
     "output_type": "execute_result"
    }
   ],
   "source": [
    "url = 'https://raw.githubusercontent.com/asegura4488/Estadistica_Herramientas/main/Data/Sesion2/DatosEstratificados.csv'\n",
    "df = pd.read_csv(url, sep = ',')\n",
    "df"
   ]
  },
  {
   "cell_type": "code",
   "execution_count": 5,
   "id": "38afa1db",
   "metadata": {},
   "outputs": [
    {
     "data": {
      "text/plain": [
       "2000"
      ]
     },
     "execution_count": 5,
     "metadata": {},
     "output_type": "execute_result"
    }
   ],
   "source": [
    "# Extra: Suma total sin usar np.sum()\n",
    "asistentes = df.Asistentes\n",
    "suma = 0\n",
    "for i in range(len(asistentes)):\n",
    "    suma += asistentes[i]\n",
    "suma"
   ]
  },
  {
   "cell_type": "code",
   "execution_count": 8,
   "id": "f9b3f281",
   "metadata": {},
   "outputs": [
    {
     "data": {
      "text/html": [
       "<div>\n",
       "<style scoped>\n",
       "    .dataframe tbody tr th:only-of-type {\n",
       "        vertical-align: middle;\n",
       "    }\n",
       "\n",
       "    .dataframe tbody tr th {\n",
       "        vertical-align: top;\n",
       "    }\n",
       "\n",
       "    .dataframe thead th {\n",
       "        text-align: right;\n",
       "    }\n",
       "</style>\n",
       "<table border=\"1\" class=\"dataframe\">\n",
       "  <thead>\n",
       "    <tr style=\"text-align: right;\">\n",
       "      <th></th>\n",
       "      <th>Salon</th>\n",
       "      <th>Asistentes</th>\n",
       "      <th>Porcentaje</th>\n",
       "      <th>Encuestados</th>\n",
       "    </tr>\n",
       "  </thead>\n",
       "  <tbody>\n",
       "    <tr>\n",
       "      <th>0</th>\n",
       "      <td>Salon_A</td>\n",
       "      <td>40</td>\n",
       "      <td>0.0200</td>\n",
       "      <td>0.8000</td>\n",
       "    </tr>\n",
       "    <tr>\n",
       "      <th>1</th>\n",
       "      <td>Salon_B</td>\n",
       "      <td>100</td>\n",
       "      <td>0.0500</td>\n",
       "      <td>5.0000</td>\n",
       "    </tr>\n",
       "    <tr>\n",
       "      <th>2</th>\n",
       "      <td>Salon_C</td>\n",
       "      <td>95</td>\n",
       "      <td>0.0475</td>\n",
       "      <td>4.5125</td>\n",
       "    </tr>\n",
       "    <tr>\n",
       "      <th>3</th>\n",
       "      <td>Salon_D</td>\n",
       "      <td>70</td>\n",
       "      <td>0.0350</td>\n",
       "      <td>2.4500</td>\n",
       "    </tr>\n",
       "    <tr>\n",
       "      <th>4</th>\n",
       "      <td>Salon_E</td>\n",
       "      <td>510</td>\n",
       "      <td>0.2550</td>\n",
       "      <td>130.0500</td>\n",
       "    </tr>\n",
       "    <tr>\n",
       "      <th>5</th>\n",
       "      <td>Salon_F</td>\n",
       "      <td>200</td>\n",
       "      <td>0.1000</td>\n",
       "      <td>20.0000</td>\n",
       "    </tr>\n",
       "    <tr>\n",
       "      <th>6</th>\n",
       "      <td>Salon_G</td>\n",
       "      <td>150</td>\n",
       "      <td>0.0750</td>\n",
       "      <td>11.2500</td>\n",
       "    </tr>\n",
       "    <tr>\n",
       "      <th>7</th>\n",
       "      <td>Salon_H</td>\n",
       "      <td>125</td>\n",
       "      <td>0.0625</td>\n",
       "      <td>7.8125</td>\n",
       "    </tr>\n",
       "    <tr>\n",
       "      <th>8</th>\n",
       "      <td>Salon_I</td>\n",
       "      <td>310</td>\n",
       "      <td>0.1550</td>\n",
       "      <td>48.0500</td>\n",
       "    </tr>\n",
       "    <tr>\n",
       "      <th>9</th>\n",
       "      <td>Salon_J</td>\n",
       "      <td>400</td>\n",
       "      <td>0.2000</td>\n",
       "      <td>80.0000</td>\n",
       "    </tr>\n",
       "  </tbody>\n",
       "</table>\n",
       "</div>"
      ],
      "text/plain": [
       "     Salon  Asistentes  Porcentaje  Encuestados\n",
       "0  Salon_A          40      0.0200       0.8000\n",
       "1  Salon_B         100      0.0500       5.0000\n",
       "2  Salon_C          95      0.0475       4.5125\n",
       "3  Salon_D          70      0.0350       2.4500\n",
       "4  Salon_E         510      0.2550     130.0500\n",
       "5  Salon_F         200      0.1000      20.0000\n",
       "6  Salon_G         150      0.0750      11.2500\n",
       "7  Salon_H         125      0.0625       7.8125\n",
       "8  Salon_I         310      0.1550      48.0500\n",
       "9  Salon_J         400      0.2000      80.0000"
      ]
     },
     "execution_count": 8,
     "metadata": {},
     "output_type": "execute_result"
    }
   ],
   "source": [
    "Total = np.sum(asistentes)\n",
    "Total\n",
    "\n",
    "df2 = df.assign(Porcentaje = asistentes/Total) # Acá se asigna a cada clase el peso porcentual que tiene sobre el total\n",
    "\n",
    "df3 = df2.assign(Encuestados = asistentes*df2.Porcentaje)\n",
    "df3"
   ]
  },
  {
   "cell_type": "code",
   "execution_count": null,
   "id": "babe062b",
   "metadata": {},
   "outputs": [],
   "source": []
  }
 ],
 "metadata": {
  "kernelspec": {
   "display_name": "Python 3 (ipykernel)",
   "language": "python",
   "name": "python3"
  },
  "language_info": {
   "codemirror_mode": {
    "name": "ipython",
    "version": 3
   },
   "file_extension": ".py",
   "mimetype": "text/x-python",
   "name": "python",
   "nbconvert_exporter": "python",
   "pygments_lexer": "ipython3",
   "version": "3.9.7"
  }
 },
 "nbformat": 4,
 "nbformat_minor": 5
}
