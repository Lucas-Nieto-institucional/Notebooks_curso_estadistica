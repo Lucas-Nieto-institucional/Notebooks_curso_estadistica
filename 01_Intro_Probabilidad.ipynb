{
 "cells": [
  {
   "cell_type": "markdown",
   "id": "97570653",
   "metadata": {},
   "source": [
    "<img src = \"https://upload.wikimedia.org/wikipedia/commons/e/e2/Confidence-interval.svg\" width=\"540\"/>\n",
    "\n",
    "# Introducción a la probabilidad\n",
    "\n",
    "## Contenido\n",
    "\n",
    "1. Muestreo aleatorio simple, estratificado y sistemático de una población\n",
    "2. Interpretación de probabilidad, funciones de densidad, funciones de variables aleatorias. Distribuciones exponenciales, gaussianas, normales-logarítmicas, chi-cuadrado ($\\chi ^{2}$).\n",
    "3. Valores esperados, funciones binomiales y multinomiales, distribución de Poisson, distribución uniforme."
   ]
  },
  {
   "cell_type": "code",
   "execution_count": 1,
   "id": "60937a8a",
   "metadata": {},
   "outputs": [],
   "source": [
    "import numpy as np\n",
    "import matplotlib.pyplot as plt\n",
    "import pandas as pd"
   ]
  },
  {
   "cell_type": "markdown",
   "id": "740d9fb9",
   "metadata": {},
   "source": [
    "# 06/23/2022\n",
    "\n",
    "## Conceptos clave:\n",
    "\n",
    "1. Población: El conjunto completo o \"universo\", en general no es posible tener acceso al conjunto.\n",
    "2. Muestra: Un subconjunto incompleto, se requiere que sea representativa para extraer conclusiones sobre la población completa.\n",
    "3. Estimadores estadísticos: Funciones matemáticas dependientes de la muestra como la media, moda, mediana, etc.\n",
    "\n",
    "## Ejemplo 1: Escoger entre dos cajas\n"
   ]
  },
  {
   "cell_type": "code",
   "execution_count": 2,
   "id": "762b8f05",
   "metadata": {
    "scrolled": true
   },
   "outputs": [
    {
     "name": "stdout",
     "output_type": "stream",
     "text": [
      "20\n"
     ]
    }
   ],
   "source": [
    "data = np.array([1,2,2,1,1,1,1,2,2,1,1,2,2,2,1,2,2,2,1,2]) # Esta población es pequeña así que es igual a la muestra, pero  \n",
    "print(len(data))                                           # conceptualmente no son iguales."
   ]
  },
  {
   "cell_type": "code",
   "execution_count": 3,
   "id": "2aa18ce1",
   "metadata": {
    "scrolled": true
   },
   "outputs": [
    {
     "data": {
      "image/png": "[encoded data removed]",
      "text/plain": [
       "<Figure size 432x288 with 1 Axes>"
      ]
     },
     "metadata": {
      "needs_background": "light"
     },
     "output_type": "display_data"
    }
   ],
   "source": [
    "plt.hist(data, bins = 2, ec = 'k') # bins = cajas ; ec = 'edge color'\n",
    "plt.grid() # Cuadrícula"
   ]
  },
  {
   "cell_type": "markdown",
   "id": "bff71050",
   "metadata": {},
   "source": [
    "La gráfica anterior es un [**histograma**](https://es.wikipedia.org/wiki/Histograma#Tipos_de_gráficos_relacionados_con_el_histograma) que representa la frecuencia absoluta por clase entre dos eventos, siendo el eje ordenado la frecuencia y el eje de abscizas las clases. En este caso la primera barra representa la frecuencia con la que fue escogida la caja 1, y la segunda barra representa la frecuencia con la que fue escogida la caja 2. En este experimento hubo sesgo por comentarios del experimentador y porque los participantes conocían las respuestas previas, incluso así las frecuencias de 1 y 2 son bastante cercanas.\n",
    "\n",
    "## Muestreo\n",
    "\n",
    "En poblaciones más grandes que no son accesibles, es necesario escoger muestras representativas para evitar sesgos y que las conclusiones extraídas de los datos sean lo más fiel posible a la realidad, para esto se utiliza el [**muestreo**](https://es.wikipedia.org/wiki/Muestreo_(estadística) ); técnicas para seleccionar muestras representativas con propiedades extrapolables a la población minimizando los sesgos, en todo muestreo hay posibilidad de sesgo y un margen de error.\n",
    "    \n",
    "## Ejemplo 2: Muestreo sistemático"
   ]
  },
  {
   "cell_type": "code",
   "execution_count": 4,
   "id": "d76e1e5b",
   "metadata": {},
   "outputs": [
    {
     "data": {
      "text/plain": [
       "array([-5, -3, -1,  0,  4,  5,  7, 10, 12, 15, 19, 20, 45, 50, 55, 60])"
      ]
     },
     "execution_count": 4,
     "metadata": {},
     "output_type": "execute_result"
    }
   ],
   "source": [
    "l = [0,-1,-3,-5,5,7,4,10,12,15,20,19,50,55,60,45] # Población\n",
    "\n",
    "np.sort(l) # El comando sort genera un array con los elementos de la lista ordenados de menor a mayor"
   ]
  },
  {
   "cell_type": "code",
   "execution_count": 5,
   "id": "15559b6d",
   "metadata": {},
   "outputs": [
    {
     "data": {
      "text/plain": [
       "array([60, 55, 50, 45, 20, 19, 15, 12, 10,  7,  5,  4,  0, -1, -3, -5])"
      ]
     },
     "execution_count": 5,
     "metadata": {},
     "output_type": "execute_result"
    }
   ],
   "source": [
    "sorted_l = np.sort(l)[::-1] # Este método de indexación invierte el orden de menor a mayor, dejando un array ordenado de mayor\n",
    "sorted_l                    # a menor."
   ]
  },
  {
   "cell_type": "code",
   "execution_count": 6,
   "id": "e0356049",
   "metadata": {},
   "outputs": [
    {
     "data": {
      "text/plain": [
       "array([60., 50., 20., 15., 10.,  5.,  0., -3.])"
      ]
     },
     "execution_count": 6,
     "metadata": {},
     "output_type": "execute_result"
    }
   ],
   "source": [
    "n = 8                      # Tamaño de muestra\n",
    "k = int(len(l)/n)          # Coeficiente de elevación K = N/n, donde N es el tamaño de la población\n",
    "\n",
    "i_0 = np.random.randint(k) # Esta función escoge un número entero aleatorio entre 1 y K\n",
    "\n",
    "Sample = np.zeros(n)       # Esta función crea un array 1D de tamaño n lleno de 0's\n",
    "\n",
    "Sample[0] = sorted_l[i_0]  # El primer elemento de la muestra será el elemento en la posición i_0 de la población\n",
    "\n",
    "for i in range(1,n):       # Y desde la posición i_0, se escogerá el elemento en la posición i_0 + k para la muestra\n",
    "    i_0 += k\n",
    "    Sample[i] = sorted_l[i_0]\n",
    "    \n",
    "Sample # Correr varias veces este bloque mostrará las posibilidades de muestreo para esta población y tamñaño de muestra"
   ]
  },
  {
   "cell_type": "markdown",
   "id": "35b86f7e",
   "metadata": {},
   "source": [
    "## Ejemplo 3: Muestreo ponderado de asistentes a un evento"
   ]
  },
  {
   "cell_type": "code",
   "execution_count": 7,
   "id": "154c512a",
   "metadata": {
    "scrolled": true
   },
   "outputs": [
    {
     "data": {
      "text/html": [
       "<div>\n",
       "<style scoped>\n",
       "    .dataframe tbody tr th:only-of-type {\n",
       "        vertical-align: middle;\n",
       "    }\n",
       "\n",
       "    .dataframe tbody tr th {\n",
       "        vertical-align: top;\n",
       "    }\n",
       "\n",
       "    .dataframe thead th {\n",
       "        text-align: right;\n",
       "    }\n",
       "</style>\n",
       "<table border=\"1\" class=\"dataframe\">\n",
       "  <thead>\n",
       "    <tr style=\"text-align: right;\">\n",
       "      <th></th>\n",
       "      <th>Salon</th>\n",
       "      <th>Asistentes</th>\n",
       "    </tr>\n",
       "  </thead>\n",
       "  <tbody>\n",
       "    <tr>\n",
       "      <th>0</th>\n",
       "      <td>Salon_A</td>\n",
       "      <td>40</td>\n",
       "    </tr>\n",
       "    <tr>\n",
       "      <th>1</th>\n",
       "      <td>Salon_B</td>\n",
       "      <td>100</td>\n",
       "    </tr>\n",
       "    <tr>\n",
       "      <th>2</th>\n",
       "      <td>Salon_C</td>\n",
       "      <td>95</td>\n",
       "    </tr>\n",
       "    <tr>\n",
       "      <th>3</th>\n",
       "      <td>Salon_D</td>\n",
       "      <td>70</td>\n",
       "    </tr>\n",
       "    <tr>\n",
       "      <th>4</th>\n",
       "      <td>Salon_E</td>\n",
       "      <td>510</td>\n",
       "    </tr>\n",
       "    <tr>\n",
       "      <th>5</th>\n",
       "      <td>Salon_F</td>\n",
       "      <td>200</td>\n",
       "    </tr>\n",
       "    <tr>\n",
       "      <th>6</th>\n",
       "      <td>Salon_G</td>\n",
       "      <td>150</td>\n",
       "    </tr>\n",
       "    <tr>\n",
       "      <th>7</th>\n",
       "      <td>Salon_H</td>\n",
       "      <td>125</td>\n",
       "    </tr>\n",
       "    <tr>\n",
       "      <th>8</th>\n",
       "      <td>Salon_I</td>\n",
       "      <td>310</td>\n",
       "    </tr>\n",
       "    <tr>\n",
       "      <th>9</th>\n",
       "      <td>Salon_J</td>\n",
       "      <td>400</td>\n",
       "    </tr>\n",
       "  </tbody>\n",
       "</table>\n",
       "</div>"
      ],
      "text/plain": [
       "     Salon  Asistentes\n",
       "0  Salon_A          40\n",
       "1  Salon_B         100\n",
       "2  Salon_C          95\n",
       "3  Salon_D          70\n",
       "4  Salon_E         510\n",
       "5  Salon_F         200\n",
       "6  Salon_G         150\n",
       "7  Salon_H         125\n",
       "8  Salon_I         310\n",
       "9  Salon_J         400"
      ]
     },
     "execution_count": 7,
     "metadata": {},
     "output_type": "execute_result"
    }
   ],
   "source": [
    "url = 'https://raw.githubusercontent.com/asegura4488/Estadistica_Herramientas/main/Data/Sesion2/DatosEstratificados.csv'\n",
    "df = pd.read_csv(url, sep = ',')\n",
    "df"
   ]
  },
  {
   "cell_type": "code",
   "execution_count": 8,
   "id": "38afa1db",
   "metadata": {},
   "outputs": [
    {
     "data": {
      "text/plain": [
       "2000"
      ]
     },
     "execution_count": 8,
     "metadata": {},
     "output_type": "execute_result"
    }
   ],
   "source": [
    "# Extra: Suma total sin usar np.sum()\n",
    "asistentes = df.Asistentes\n",
    "suma = 0\n",
    "for i in range(len(asistentes)):\n",
    "    suma += asistentes[i]\n",
    "suma"
   ]
  },
  {
   "cell_type": "code",
   "execution_count": 9,
   "id": "f9b3f281",
   "metadata": {},
   "outputs": [
    {
     "data": {
      "text/html": [
       "<div>\n",
       "<style scoped>\n",
       "    .dataframe tbody tr th:only-of-type {\n",
       "        vertical-align: middle;\n",
       "    }\n",
       "\n",
       "    .dataframe tbody tr th {\n",
       "        vertical-align: top;\n",
       "    }\n",
       "\n",
       "    .dataframe thead th {\n",
       "        text-align: right;\n",
       "    }\n",
       "</style>\n",
       "<table border=\"1\" class=\"dataframe\">\n",
       "  <thead>\n",
       "    <tr style=\"text-align: right;\">\n",
       "      <th></th>\n",
       "      <th>Salon</th>\n",
       "      <th>Asistentes</th>\n",
       "      <th>Porcentaje</th>\n",
       "      <th>Encuestados</th>\n",
       "    </tr>\n",
       "  </thead>\n",
       "  <tbody>\n",
       "    <tr>\n",
       "      <th>0</th>\n",
       "      <td>Salon_A</td>\n",
       "      <td>40</td>\n",
       "      <td>0.0200</td>\n",
       "      <td>4.0</td>\n",
       "    </tr>\n",
       "    <tr>\n",
       "      <th>1</th>\n",
       "      <td>Salon_B</td>\n",
       "      <td>100</td>\n",
       "      <td>0.0500</td>\n",
       "      <td>10.0</td>\n",
       "    </tr>\n",
       "    <tr>\n",
       "      <th>2</th>\n",
       "      <td>Salon_C</td>\n",
       "      <td>95</td>\n",
       "      <td>0.0475</td>\n",
       "      <td>9.5</td>\n",
       "    </tr>\n",
       "    <tr>\n",
       "      <th>3</th>\n",
       "      <td>Salon_D</td>\n",
       "      <td>70</td>\n",
       "      <td>0.0350</td>\n",
       "      <td>7.0</td>\n",
       "    </tr>\n",
       "    <tr>\n",
       "      <th>4</th>\n",
       "      <td>Salon_E</td>\n",
       "      <td>510</td>\n",
       "      <td>0.2550</td>\n",
       "      <td>51.0</td>\n",
       "    </tr>\n",
       "    <tr>\n",
       "      <th>5</th>\n",
       "      <td>Salon_F</td>\n",
       "      <td>200</td>\n",
       "      <td>0.1000</td>\n",
       "      <td>20.0</td>\n",
       "    </tr>\n",
       "    <tr>\n",
       "      <th>6</th>\n",
       "      <td>Salon_G</td>\n",
       "      <td>150</td>\n",
       "      <td>0.0750</td>\n",
       "      <td>15.0</td>\n",
       "    </tr>\n",
       "    <tr>\n",
       "      <th>7</th>\n",
       "      <td>Salon_H</td>\n",
       "      <td>125</td>\n",
       "      <td>0.0625</td>\n",
       "      <td>12.5</td>\n",
       "    </tr>\n",
       "    <tr>\n",
       "      <th>8</th>\n",
       "      <td>Salon_I</td>\n",
       "      <td>310</td>\n",
       "      <td>0.1550</td>\n",
       "      <td>31.0</td>\n",
       "    </tr>\n",
       "    <tr>\n",
       "      <th>9</th>\n",
       "      <td>Salon_J</td>\n",
       "      <td>400</td>\n",
       "      <td>0.2000</td>\n",
       "      <td>40.0</td>\n",
       "    </tr>\n",
       "  </tbody>\n",
       "</table>\n",
       "</div>"
      ],
      "text/plain": [
       "     Salon  Asistentes  Porcentaje  Encuestados\n",
       "0  Salon_A          40      0.0200          4.0\n",
       "1  Salon_B         100      0.0500         10.0\n",
       "2  Salon_C          95      0.0475          9.5\n",
       "3  Salon_D          70      0.0350          7.0\n",
       "4  Salon_E         510      0.2550         51.0\n",
       "5  Salon_F         200      0.1000         20.0\n",
       "6  Salon_G         150      0.0750         15.0\n",
       "7  Salon_H         125      0.0625         12.5\n",
       "8  Salon_I         310      0.1550         31.0\n",
       "9  Salon_J         400      0.2000         40.0"
      ]
     },
     "execution_count": 9,
     "metadata": {},
     "output_type": "execute_result"
    }
   ],
   "source": [
    "Total = np.sum(asistentes)\n",
    "Total\n",
    "\n",
    "df = df.assign(Porcentaje = asistentes/Total) # Se asigna a cada clase el peso porcentual que tiene sobre el total de \n",
    "                                              # asistentes.\n",
    "\n",
    "muestra = 200 # Número entero de asistentes encuestados.\n",
    "df = df.assign(Encuestados = muestra*df.Porcentaje)\n",
    "df"
   ]
  },
  {
   "cell_type": "code",
   "execution_count": 10,
   "id": "babe062b",
   "metadata": {},
   "outputs": [
    {
     "name": "stdout",
     "output_type": "stream",
     "text": [
      "200.0\n"
     ]
    }
   ],
   "source": [
    "print(np.sum(df.Encuestados))"
   ]
  },
  {
   "cell_type": "markdown",
   "id": "5093616b",
   "metadata": {},
   "source": [
    "La librería *Pandas* soporta archivos xlsx, csv, etc. También puede generarlos para que otras personas puedan usar nuestros datos, para generar un libro de excel a partir de los datos de este ejemplo se utilizaría el código:\n",
    "```python\n",
    "df.to_excel('NumeroEncuestados.xlsx',sheet_name='Encuesta1',index=False)\n",
    "```\n",
    "\n",
    "## Experimento: ¿Probabilidad frecuentista?\n",
    "\n",
    "Al lanzar un dado, si este dado no está cargado para favorecer un resultado, esperaríamos que pasados muchos lanzamientos la proporción de cada número con respecto al total fuera aproximadamente $\\frac{1}{6}$, esta es su **probabilidad**. En este experimento el evento de interés será el número 3, e intentaremos comprobar si pasados muchos lanzamientos la probabilidad se aproxima a $\\frac{1}{6}$."
   ]
  },
  {
   "cell_type": "code",
   "execution_count": 11,
   "id": "b063327a",
   "metadata": {
    "scrolled": false
   },
   "outputs": [
    {
     "data": {
      "image/png": "[encoded data removed]",
      "text/plain": [
       "<Figure size 432x288 with 1 Axes>"
      ]
     },
     "metadata": {
      "needs_background": "light"
     },
     "output_type": "display_data"
    }
   ],
   "source": [
    "Evento = 3\n",
    "\n",
    "def GetFrecuencias(N:int): # ¿Cuántas veces sucedió el evento de interés en N lanzamientos del dado?\n",
    "    \n",
    "    NTimes = 0 # Contador que incrementa cada vez que el lanzamiento es igual al evento de interés\n",
    "    \n",
    "    for i in range(int(N)):\n",
    "        lanzamiento = np.random.randint(1,7) # Dado que la indexación de Python empieza en 0, hay que sumar +1 al límite\n",
    "                                             # superior del rango.\n",
    "        if lanzamiento == Evento:\n",
    "            NTimes += 1\n",
    "    \n",
    "    return NTimes/N\n",
    "\n",
    "n = np.logspace(1,6,100)\n",
    "freqs = np.zeros(len(n))\n",
    "\n",
    "for i in range(len(n)):\n",
    "    freqs[i] = GetFrecuencias(n[i])\n",
    "    \n",
    "plt.plot(n,freqs,c='k')\n",
    "plt.grid()\n",
    "plt.xlabel('Lanzamientos del dado')\n",
    "plt.ylabel('Frecuencia')\n",
    "plt.axhline(y=1/6,color='r',ls='--',label = r'$1/6$')\n",
    "plt.xscale('log')\n",
    "plt.legend()\n",
    "plt.show()"
   ]
  },
  {
   "cell_type": "markdown",
   "id": "643cced5",
   "metadata": {},
   "source": [
    "Durante todos los lanzamientos aleatorios del experimento la probabilidad del evento de interés se mantiene dentro del rango $[0,1]$, y conforme aumenta el número de lanzamientos, la probabilidad efectivamente se aproxima a $\\frac{1}{6}$\n",
    "\n",
    "# 06/28/2022\n",
    "\n",
    "## Experimento: Probabilidad de una suma de dos dados\n",
    "\n",
    "Nuevamente lanzaremos dados, pero en esta ocasión se lanzarán dos y el resultado que nos interesa será su suma, esto modifica las probabilidades y todo el espacio muestral. ¿Será favorecido algún resultado más que los demás?"
   ]
  },
  {
   "cell_type": "code",
   "execution_count": 12,
   "id": "18b483d7",
   "metadata": {},
   "outputs": [
    {
     "data": {
      "text/plain": [
       "array([10.,  7.,  4.])"
      ]
     },
     "execution_count": 12,
     "metadata": {},
     "output_type": "execute_result"
    }
   ],
   "source": [
    "def GetExperiments(N:int): # N lanzamientos de los dados\n",
    "    \n",
    "    Sumas = np.zeros(N) # Cada resultado se guardará como un elemento en un array de tamaño N\n",
    "    \n",
    "    for i in range(int(N)):\n",
    "        \n",
    "        d1 = np.random.randint(1,7) # Lanzamiento aleatorio del dado 1\n",
    "        d2 = np.random.randint(1,7) # Lanzamiento aleatorio del dado 2\n",
    "        \n",
    "        Sumas[i] = d1+d2\n",
    "        \n",
    "    return Sumas\n",
    "\n",
    "GetExperiments(3) # Ejemplo: Lanzar los dados 3 veces, se registran sus sumas:"
   ]
  },
  {
   "cell_type": "code",
   "execution_count": 13,
   "id": "8c445450",
   "metadata": {
    "scrolled": true
   },
   "outputs": [
    {
     "data": {
      "image/png": "[encoded data removed]",
      "text/plain": [
       "<Figure size 432x288 with 1 Axes>"
      ]
     },
     "metadata": {
      "needs_background": "light"
     },
     "output_type": "display_data"
    },
    {
     "name": "stdout",
     "output_type": "stream",
     "text": [
      "Frecuencias absolutas de cada suma de los dados:\n",
      "\n",
      " [[    2  2749]\n",
      " [    3  5611]\n",
      " [    4  8215]\n",
      " [    5 11118]\n",
      " [    6 14065]\n",
      " [    7 16565]\n",
      " [    8 14001]\n",
      " [    9 11074]\n",
      " [   10  8296]\n",
      " [   11  5527]\n",
      " [   12  2779]]\n",
      "\n",
      "Área del histograma = 100000.0\n"
     ]
    }
   ],
   "source": [
    "N = 100000\n",
    "Freq = GetExperiments(N)\n",
    "\n",
    "# plt.hist(Freq) Este comando imprimiría un histograma poco inteligible y con una caja extra por indexación del array\n",
    "\n",
    "x = np.linspace(2,13,12) # El espacio muestral va de la mínima suma posible de 2 a la máxima suma posible de 12,\n",
    "                         # pero nuevamente se suma uno por el rango e indexación de de la función linspace()\n",
    "    \n",
    "h, bins = np.histogram(Freq, bins=x)\n",
    "w = np.diff(bins) # Array de anchos de cada clase, np.diff() calcula la diferencia entre elementos de un array, 1 en este caso\n",
    "\n",
    "sumas = np.array(bins[:-1],dtype = int) # bins indexado para eliminar la columna que sobra\n",
    "h = np.array(h,dtype = int)\n",
    "\n",
    "plt.bar(sumas, h, color='r', ec='k', width=w ) \n",
    "plt.grid()\n",
    "plt.title(\"Histograma de frecuencias absolutas\")\n",
    "plt.show()\n",
    "\n",
    "print(\"Frecuencias absolutas de cada suma de los dados:\\n\\n\",np.vstack((sumas,h)).T)\n",
    "I = np.sum(w*h); print('\\nÁrea del histograma =',I)"
   ]
  },
  {
   "cell_type": "markdown",
   "id": "37d99e0f",
   "metadata": {},
   "source": [
    "Este histograma muestra que la suma más frecuente en el espacio muestral del experimento es 7, pero cuando se habla de probabilidad se impone la condición de que debe ser un número dentro del rango $[0,1]$ y la suma de probabilidades de todo el espacio muestral sea igual a $1$, por lo que si el objetivo es que el área del histograma represente probabilidad, este debe ser normalizado:"
   ]
  },
  {
   "cell_type": "code",
   "execution_count": 14,
   "id": "1e68dc9b",
   "metadata": {},
   "outputs": [
    {
     "data": {
      "image/png": "[encoded data removed]",
      "text/plain": [
       "<Figure size 432x288 with 1 Axes>"
      ]
     },
     "metadata": {
      "needs_background": "light"
     },
     "output_type": "display_data"
    },
    {
     "name": "stdout",
     "output_type": "stream",
     "text": [
      "Probabilidad para cada suma de los dados:\n",
      "\n",
      " [[ 2.       0.02749]\n",
      " [ 3.       0.05611]\n",
      " [ 4.       0.08215]\n",
      " [ 5.       0.11118]\n",
      " [ 6.       0.14065]\n",
      " [ 7.       0.16565]\n",
      " [ 8.       0.14001]\n",
      " [ 9.       0.11074]\n",
      " [10.       0.08296]\n",
      " [11.       0.05527]\n",
      " [12.       0.02779]]\n",
      "\n",
      "Área del histograma = 1.0000000000000002\n"
     ]
    }
   ],
   "source": [
    "hnorm = h/I\n",
    "\n",
    "plt.bar(sumas, hnorm, color='g', ec='k', width=w )\n",
    "plt.grid()\n",
    "plt.title(\"Probabilidad de suma de dos dados\")\n",
    "plt.show()\n",
    "\n",
    "print(\"Probabilidad para cada suma de los dados:\\n\\n\",np.vstack((sumas,hnorm)).T)\n",
    "A_norm= np.sum(w*hnorm); print('\\nÁrea del histograma =',A_norm)"
   ]
  },
  {
   "cell_type": "markdown",
   "id": "d3c7f711",
   "metadata": {},
   "source": [
    "Por la manera en que un computador representa variables de floating point el resultado del área total del histograma no es calculada como un valor entero pero esta presentación puede ser modificada con ```round()``` para que el valor impreso sea el número entero.\n",
    "\n",
    "Visualmente este histograma parece indicar que al lanzar dos dados su suma más probable es 7, y analizando todas las posibles configuraciones de los dados en el espacio muestral se encuentra que el 7 es efectivamente la suma con el mayor número de posibilidades. Sin embargo también existe otro argumento matemático para demostrar el número más probable en este experimento, o en otras palabras, el **valor esperado** de la suma de lanzar dos dados, este se realiza con un promedio ponderado:\n",
    "\n",
    "$$\\mathbb{E}(X) = x_1 w_1 + x_2 w_2 + ... + x_i w_i$$\n",
    "\n",
    "Para una variable aleatoria discreta $X$, el valor esperado o la esperanza $\\mathbb{E}(X)$ será la suma del valor de cada suceso aleatorio $x_i$ multiplicado por la función de probabilidad $w_i$ para el suceso, de forma más general:\n",
    "\n",
    "$$\\mathbb{E}(X) = \\sum_{i = 1}^{n} x_i P(x_i)$$\n"
   ]
  },
  {
   "cell_type": "code",
   "execution_count": 15,
   "id": "215a18f3",
   "metadata": {},
   "outputs": [
    {
     "data": {
      "text/plain": [
       "6.9990499999999995"
      ]
     },
     "execution_count": 15,
     "metadata": {},
     "output_type": "execute_result"
    }
   ],
   "source": [
    "E = np.sum(sumas*hnorm)\n",
    "E # Esperanza en el experimento es un valor próximo a 7"
   ]
  }
 ],
 "metadata": {
  "kernelspec": {
   "display_name": "Python 3 (ipykernel)",
   "language": "python",
   "name": "python3"
  },
  "language_info": {
   "codemirror_mode": {
    "name": "ipython",
    "version": 3
   },
   "file_extension": ".py",
   "mimetype": "text/x-python",
   "name": "python",
   "nbconvert_exporter": "python",
   "pygments_lexer": "ipython3",
   "version": "3.9.7"
  }
 },
 "nbformat": 4,
 "nbformat_minor": 5
}
