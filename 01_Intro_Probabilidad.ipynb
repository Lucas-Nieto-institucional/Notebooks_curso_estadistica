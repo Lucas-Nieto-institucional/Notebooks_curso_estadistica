{
 "cells": [
  {
   "cell_type": "markdown",
   "id": "97570653",
   "metadata": {},
   "source": [
    "<img src = \"https://upload.wikimedia.org/wikipedia/commons/e/e2/Confidence-interval.svg\" width=\"540\"/>\n",
    "\n",
    "# Introducción a la probabilidad\n",
    "\n",
    "## Contenido\n",
    "\n",
    "1. Muestreo aleatorio simple, estratificado y sistemático de una población\n",
    "2. Interpretación de probabilidad, funciones de densidad, funciones de variables aleatorias. Distribuciones exponenciales, gaussianas, normales-logarítmicas, chi-cuadrado ($\\chi ^{2}$).\n",
    "3. Valores esperados, funciones binomiales y multinomiales, distribución de Poisson, distribución uniforme."
   ]
  },
  {
   "cell_type": "code",
   "execution_count": 1,
   "id": "60937a8a",
   "metadata": {},
   "outputs": [],
   "source": [
    "import numpy as np\n",
    "import matplotlib.pyplot as plt\n",
    "import pandas as pd"
   ]
  },
  {
   "cell_type": "markdown",
   "id": "740d9fb9",
   "metadata": {},
   "source": [
    "# 06/23/2022\n",
    "\n",
    "## Conceptos clave:\n",
    "\n",
    "1. Población: El conjunto completo o \"universo\", en general no es posible tener acceso al conjunto.\n",
    "2. Muestra: Un subconjunto incompleto, se requiere que sea representativa para extraer conclusiones sobre la población completa.\n",
    "3. Estimadores estadísticos: Funciones matemáticas dependientes de la muestra como la media, moda, mediana, etc.\n",
    "\n",
    "## Ejemplo 1: Escoger entre dos cajas\n"
   ]
  },
  {
   "cell_type": "code",
   "execution_count": 2,
   "id": "762b8f05",
   "metadata": {
    "scrolled": true
   },
   "outputs": [
    {
     "name": "stdout",
     "output_type": "stream",
     "text": [
      "20\n"
     ]
    }
   ],
   "source": [
    "data = np.array([1,2,2,1,1,1,1,2,2,1,1,2,2,2,1,2,2,2,1,2]) # Esta población es pequeña así que es igual a la muestra, pero  \n",
    "print(len(data))                                           # conceptualmente no son iguales."
   ]
  },
  {
   "cell_type": "code",
   "execution_count": 3,
   "id": "2aa18ce1",
   "metadata": {
    "scrolled": true
   },
   "outputs": [
    {
     "data": {
      "image/png": "[encoded data removed]",
      "text/plain": [
       "<Figure size 432x288 with 1 Axes>"
      ]
     },
     "metadata": {
      "needs_background": "light"
     },
     "output_type": "display_data"
    }
   ],
   "source": [
    "plt.hist(data, bins = 2, ec = 'k') # bins = cajas ; ec = 'edge color'\n",
    "plt.grid() # Cuadrícula"
   ]
  },
  {
   "cell_type": "markdown",
   "id": "bff71050",
   "metadata": {},
   "source": [
    "La gráfica anterior es un [**histograma**](https://es.wikipedia.org/wiki/Histograma#Tipos_de_gráficos_relacionados_con_el_histograma) que representa la frecuencia absoluta por clase entre dos eventos, siendo el eje ordenado la frecuencia y el eje de abscizas las clases. En este caso la primera barra representa la frecuencia con la que fue escogida la caja 1, y la segunda barra representa la frecuencia con la que fue escogida la caja 2. En este experimento hubo sesgo por comentarios del experimentador y porque los participantes conocían las respuestas previas, incluso así las frecuencias de 1 y 2 son bastante cercanas.\n",
    "\n",
    "## Muestreo\n",
    "\n",
    "En poblaciones más grandes que no son accesibles, es necesario escoger muestras representativas para evitar sesgos y que las conclusiones extraídas de los datos sean lo más fiel posible a la realidad, para esto se utiliza el [**muestreo**](https://es.wikipedia.org/wiki/Muestreo_(estadística) ); técnicas para seleccionar muestras representativas con propiedades extrapolables a la población minimizando los sesgos, en todo muestreo hay posibilidad de sesgo y un margen de error.\n",
    "    \n",
    "## Ejemplo 2: Muestreo sistemático"
   ]
  },
  {
   "cell_type": "code",
   "execution_count": 4,
   "id": "0204260e",
   "metadata": {},
   "outputs": [
    {
     "data": {
      "text/plain": [
       "array([-5, -3, -1,  0,  4,  5,  7, 10, 12, 15, 19, 20, 45, 50, 55, 60])"
      ]
     },
     "execution_count": 4,
     "metadata": {},
     "output_type": "execute_result"
    }
   ],
   "source": [
    "l = [0,-1,-3,-5,5,7,4,10,12,15,20,19,50,55,60,45] # Población\n",
    "\n",
    "np.sort(l) # El comando sort genera un array con los elementos de la lista ordenados de menor a mayor"
   ]
  },
  {
   "cell_type": "code",
   "execution_count": 5,
   "id": "660285a1",
   "metadata": {},
   "outputs": [
    {
     "data": {
      "text/plain": [
       "array([60, 55, 50, 45, 20, 19, 15, 12, 10,  7,  5,  4,  0, -1, -3, -5])"
      ]
     },
     "execution_count": 5,
     "metadata": {},
     "output_type": "execute_result"
    }
   ],
   "source": [
    "sorted_l = np.sort(l)[::-1] # Este método de indexación invierte el orden de menor a mayor, dejando un array ordenado de mayor\n",
    "sorted_l                    # a menor."
   ]
  },
  {
   "cell_type": "code",
   "execution_count": 6,
   "id": "aa86a62a",
   "metadata": {},
   "outputs": [
    {
     "data": {
      "text/plain": [
       "array([60., 50., 20., 15., 10.,  5.,  0., -3.])"
      ]
     },
     "execution_count": 6,
     "metadata": {},
     "output_type": "execute_result"
    }
   ],
   "source": [
    "n = 8                      # Tamaño de muestra\n",
    "k = int(len(l)/n)          # Coeficiente de elevación K = N/n, donde N es el tamaño de la población\n",
    "\n",
    "i_0 = np.random.randint(k) # Esta función escoge un número entero aleatorio entre 1 y K\n",
    "\n",
    "Sample = np.zeros(n)       # Esta función crea un array 1D de tamaño n lleno de 0's\n",
    "\n",
    "Sample[0] = sorted_l[i_0]  # El primer elemento de la muestra será el elemento en la posición i_0 de la población\n",
    "\n",
    "for i in range(1,n):       # Y desde la posición i_0, se escogerá el elemento en la posición i_0 + k para la muestra\n",
    "    i_0 += k\n",
    "    Sample[i] = sorted_l[i_0]\n",
    "    \n",
    "Sample # Correr varias veces este bloque mostrará las posibilidades de muestreo para esta población y tamñaño de muestra"
   ]
  },
  {
   "cell_type": "markdown",
   "id": "76b3322b",
   "metadata": {},
   "source": [
    "## Ejemplo 3: Muestreo ponderado de asistentes a un evento"
   ]
  },
  {
   "cell_type": "code",
   "execution_count": 7,
   "id": "154c512a",
   "metadata": {
    "scrolled": true
   },
   "outputs": [
    {
     "data": {
      "text/html": [
       "<div>\n",
       "<style scoped>\n",
       "    .dataframe tbody tr th:only-of-type {\n",
       "        vertical-align: middle;\n",
       "    }\n",
       "\n",
       "    .dataframe tbody tr th {\n",
       "        vertical-align: top;\n",
       "    }\n",
       "\n",
       "    .dataframe thead th {\n",
       "        text-align: right;\n",
       "    }\n",
       "</style>\n",
       "<table border=\"1\" class=\"dataframe\">\n",
       "  <thead>\n",
       "    <tr style=\"text-align: right;\">\n",
       "      <th></th>\n",
       "      <th>Salon</th>\n",
       "      <th>Asistentes</th>\n",
       "    </tr>\n",
       "  </thead>\n",
       "  <tbody>\n",
       "    <tr>\n",
       "      <th>0</th>\n",
       "      <td>Salon_A</td>\n",
       "      <td>40</td>\n",
       "    </tr>\n",
       "    <tr>\n",
       "      <th>1</th>\n",
       "      <td>Salon_B</td>\n",
       "      <td>100</td>\n",
       "    </tr>\n",
       "    <tr>\n",
       "      <th>2</th>\n",
       "      <td>Salon_C</td>\n",
       "      <td>95</td>\n",
       "    </tr>\n",
       "    <tr>\n",
       "      <th>3</th>\n",
       "      <td>Salon_D</td>\n",
       "      <td>70</td>\n",
       "    </tr>\n",
       "    <tr>\n",
       "      <th>4</th>\n",
       "      <td>Salon_E</td>\n",
       "      <td>510</td>\n",
       "    </tr>\n",
       "    <tr>\n",
       "      <th>5</th>\n",
       "      <td>Salon_F</td>\n",
       "      <td>200</td>\n",
       "    </tr>\n",
       "    <tr>\n",
       "      <th>6</th>\n",
       "      <td>Salon_G</td>\n",
       "      <td>150</td>\n",
       "    </tr>\n",
       "    <tr>\n",
       "      <th>7</th>\n",
       "      <td>Salon_H</td>\n",
       "      <td>125</td>\n",
       "    </tr>\n",
       "    <tr>\n",
       "      <th>8</th>\n",
       "      <td>Salon_I</td>\n",
       "      <td>310</td>\n",
       "    </tr>\n",
       "    <tr>\n",
       "      <th>9</th>\n",
       "      <td>Salon_J</td>\n",
       "      <td>400</td>\n",
       "    </tr>\n",
       "  </tbody>\n",
       "</table>\n",
       "</div>"
      ],
      "text/plain": [
       "     Salon  Asistentes\n",
       "0  Salon_A          40\n",
       "1  Salon_B         100\n",
       "2  Salon_C          95\n",
       "3  Salon_D          70\n",
       "4  Salon_E         510\n",
       "5  Salon_F         200\n",
       "6  Salon_G         150\n",
       "7  Salon_H         125\n",
       "8  Salon_I         310\n",
       "9  Salon_J         400"
      ]
     },
     "execution_count": 7,
     "metadata": {},
     "output_type": "execute_result"
    }
   ],
   "source": [
    "url = 'https://raw.githubusercontent.com/asegura4488/Estadistica_Herramientas/main/Data/Sesion2/DatosEstratificados.csv'\n",
    "df = pd.read_csv(url, sep = ',')\n",
    "df"
   ]
  },
  {
   "cell_type": "code",
   "execution_count": 8,
   "id": "38afa1db",
   "metadata": {},
   "outputs": [
    {
     "data": {
      "text/plain": [
       "2000"
      ]
     },
     "execution_count": 8,
     "metadata": {},
     "output_type": "execute_result"
    }
   ],
   "source": [
    "# Extra: Suma total sin usar np.sum()\n",
    "asistentes = df.Asistentes\n",
    "suma = 0\n",
    "for i in range(len(asistentes)):\n",
    "    suma += asistentes[i]\n",
    "suma"
   ]
  },
  {
   "cell_type": "code",
   "execution_count": 9,
   "id": "f9b3f281",
   "metadata": {},
   "outputs": [
    {
     "data": {
      "text/html": [
       "<div>\n",
       "<style scoped>\n",
       "    .dataframe tbody tr th:only-of-type {\n",
       "        vertical-align: middle;\n",
       "    }\n",
       "\n",
       "    .dataframe tbody tr th {\n",
       "        vertical-align: top;\n",
       "    }\n",
       "\n",
       "    .dataframe thead th {\n",
       "        text-align: right;\n",
       "    }\n",
       "</style>\n",
       "<table border=\"1\" class=\"dataframe\">\n",
       "  <thead>\n",
       "    <tr style=\"text-align: right;\">\n",
       "      <th></th>\n",
       "      <th>Salon</th>\n",
       "      <th>Asistentes</th>\n",
       "      <th>Porcentaje</th>\n",
       "      <th>Encuestados</th>\n",
       "    </tr>\n",
       "  </thead>\n",
       "  <tbody>\n",
       "    <tr>\n",
       "      <th>0</th>\n",
       "      <td>Salon_A</td>\n",
       "      <td>40</td>\n",
       "      <td>0.0200</td>\n",
       "      <td>4.0</td>\n",
       "    </tr>\n",
       "    <tr>\n",
       "      <th>1</th>\n",
       "      <td>Salon_B</td>\n",
       "      <td>100</td>\n",
       "      <td>0.0500</td>\n",
       "      <td>10.0</td>\n",
       "    </tr>\n",
       "    <tr>\n",
       "      <th>2</th>\n",
       "      <td>Salon_C</td>\n",
       "      <td>95</td>\n",
       "      <td>0.0475</td>\n",
       "      <td>9.5</td>\n",
       "    </tr>\n",
       "    <tr>\n",
       "      <th>3</th>\n",
       "      <td>Salon_D</td>\n",
       "      <td>70</td>\n",
       "      <td>0.0350</td>\n",
       "      <td>7.0</td>\n",
       "    </tr>\n",
       "    <tr>\n",
       "      <th>4</th>\n",
       "      <td>Salon_E</td>\n",
       "      <td>510</td>\n",
       "      <td>0.2550</td>\n",
       "      <td>51.0</td>\n",
       "    </tr>\n",
       "    <tr>\n",
       "      <th>5</th>\n",
       "      <td>Salon_F</td>\n",
       "      <td>200</td>\n",
       "      <td>0.1000</td>\n",
       "      <td>20.0</td>\n",
       "    </tr>\n",
       "    <tr>\n",
       "      <th>6</th>\n",
       "      <td>Salon_G</td>\n",
       "      <td>150</td>\n",
       "      <td>0.0750</td>\n",
       "      <td>15.0</td>\n",
       "    </tr>\n",
       "    <tr>\n",
       "      <th>7</th>\n",
       "      <td>Salon_H</td>\n",
       "      <td>125</td>\n",
       "      <td>0.0625</td>\n",
       "      <td>12.5</td>\n",
       "    </tr>\n",
       "    <tr>\n",
       "      <th>8</th>\n",
       "      <td>Salon_I</td>\n",
       "      <td>310</td>\n",
       "      <td>0.1550</td>\n",
       "      <td>31.0</td>\n",
       "    </tr>\n",
       "    <tr>\n",
       "      <th>9</th>\n",
       "      <td>Salon_J</td>\n",
       "      <td>400</td>\n",
       "      <td>0.2000</td>\n",
       "      <td>40.0</td>\n",
       "    </tr>\n",
       "  </tbody>\n",
       "</table>\n",
       "</div>"
      ],
      "text/plain": [
       "     Salon  Asistentes  Porcentaje  Encuestados\n",
       "0  Salon_A          40      0.0200          4.0\n",
       "1  Salon_B         100      0.0500         10.0\n",
       "2  Salon_C          95      0.0475          9.5\n",
       "3  Salon_D          70      0.0350          7.0\n",
       "4  Salon_E         510      0.2550         51.0\n",
       "5  Salon_F         200      0.1000         20.0\n",
       "6  Salon_G         150      0.0750         15.0\n",
       "7  Salon_H         125      0.0625         12.5\n",
       "8  Salon_I         310      0.1550         31.0\n",
       "9  Salon_J         400      0.2000         40.0"
      ]
     },
     "execution_count": 9,
     "metadata": {},
     "output_type": "execute_result"
    }
   ],
   "source": [
    "Total = np.sum(asistentes)\n",
    "Total\n",
    "\n",
    "df = df.assign(Porcentaje = asistentes/Total) # Acá se asigna a cada clase el peso porcentual que tiene sobre el total de\n",
    "                                               # asistentes.\n",
    "\n",
    "muestra = 200 # Número entero de asistentes encuestados.\n",
    "df = df.assign(Encuestados = muestra*df.Porcentaje)\n",
    "df"
   ]
  },
  {
   "cell_type": "code",
   "execution_count": 10,
   "id": "babe062b",
   "metadata": {},
   "outputs": [
    {
     "name": "stdout",
     "output_type": "stream",
     "text": [
      "200.0\n"
     ]
    }
   ],
   "source": [
    "print(np.sum(df.Encuestados))"
   ]
  },
  {
   "cell_type": "markdown",
   "id": "5093616b",
   "metadata": {},
   "source": [
    "La librería *Pandas* soporta archivos xlsx, csv, etc. También puede generarlos para que otras personas puedan usar nuestros datos, para generar un libro de excel a partir de los datos de este ejemplo se utilizaría el código:\n",
    "```python\n",
    "df.to_excel('NumeroEncuestados.xlsx',sheet_name='Encuesta1',index=False)\n",
    "```\n",
    "\n",
    "## Experimento: ¿Probabilidad frecuentista?\n",
    "\n",
    "Al lanzar un dado, si este dado no está cargado para favorecer un resultado, esperaríamos que pasados muchos lanzamientos la proporción de cada número con respecto al total fuera aproximadamente $\\frac{1}{6}$, esta es su **probabilidad**. En este experimento el evento de interés será el número 3, e intentaremos comprobar si pasados muchos lanzamientos la probabilidad se aproxima a $\\frac{1}{6}$."
   ]
  },
  {
   "cell_type": "code",
   "execution_count": 11,
   "id": "b063327a",
   "metadata": {
    "scrolled": false
   },
   "outputs": [
    {
     "data": {
      "text/plain": [
       "<matplotlib.legend.Legend at 0x25d37d640a0>"
      ]
     },
     "execution_count": 11,
     "metadata": {},
     "output_type": "execute_result"
    },
    {
     "data": {
      "image/png": "[encoded data removed]",
      "text/plain": [
       "<Figure size 432x288 with 1 Axes>"
      ]
     },
     "metadata": {
      "needs_background": "light"
     },
     "output_type": "display_data"
    }
   ],
   "source": [
    "Evento = 3\n",
    "\n",
    "def GetFrecuencias(N:int): # Cuantas veces sucedió el evento de interés en N lanzamientos del dado\n",
    "    \n",
    "    NTimes = 0 # Contador que incrementa cada vez que el lanzamiento es igual al evento de interés\n",
    "    \n",
    "    for i in range(int(N)):\n",
    "        lanzamiento = np.random.randint(1,7) # Dado que la indexación de Python empieza en 0, hay que sumar +1 al límite\n",
    "                                             # superior del rango.\n",
    "        if lanzamiento == Evento:\n",
    "            NTimes += 1\n",
    "    \n",
    "    return NTimes/N\n",
    "\n",
    "n = np.logspace(1,6,50)\n",
    "freqs = np.zeros(len(n))\n",
    "\n",
    "for i in range(len(n)):\n",
    "    freqs[i] = GetFrecuencias(n[i])\n",
    "    \n",
    "plt.plot(n,freqs,c='k',label = 'Frecuencia')\n",
    "plt.grid()\n",
    "plt.axhline(y=1/6,color='r',ls='--',label = r'$1/6$')\n",
    "plt.xscale('log')\n",
    "plt.legend()"
   ]
  },
  {
   "cell_type": "markdown",
   "id": "7e201fd3",
   "metadata": {},
   "source": [
    "Durante todos los lanzamientos aleatorios del experimento la probabilidad del evento de interés se mantiene dentro del rango $[0,1]$, y conforme aumenta el número de lanzamientos, la probabilidad efectivamente se aproxima a $\\frac{1}{6}$\n",
    "\n",
    "# 06/27/2022\n",
    "\n",
    "## Base de datos Covid-19\n",
    "\n",
    "El archivo a continuación es un excelente ejemplo de situaciones que requieren análisis de grandes volúmenes de datos y la importancia de las herramientas estadísticas y computacionales para procesar estos datos con el fin de extraer conclusiones coherentes con la realidad que guíen la toma de decisiones."
   ]
  },
  {
   "cell_type": "code",
   "execution_count": 12,
   "id": "d364f417",
   "metadata": {
    "scrolled": true
   },
   "outputs": [
    {
     "data": {
      "text/html": [
       "<div>\n",
       "<style scoped>\n",
       "    .dataframe tbody tr th:only-of-type {\n",
       "        vertical-align: middle;\n",
       "    }\n",
       "\n",
       "    .dataframe tbody tr th {\n",
       "        vertical-align: top;\n",
       "    }\n",
       "\n",
       "    .dataframe thead th {\n",
       "        text-align: right;\n",
       "    }\n",
       "</style>\n",
       "<table border=\"1\" class=\"dataframe\">\n",
       "  <thead>\n",
       "    <tr style=\"text-align: right;\">\n",
       "      <th></th>\n",
       "      <th>CASO</th>\n",
       "      <th>FECHA_DE_INICIO_DE_SINTOMAS</th>\n",
       "      <th>FECHA_DIAGNOSTICO</th>\n",
       "      <th>CIUDAD</th>\n",
       "      <th>LOCALIDAD_ASIS</th>\n",
       "      <th>EDAD</th>\n",
       "      <th>UNI_MED</th>\n",
       "      <th>SEXO</th>\n",
       "      <th>FUENTE_O_TIPO_DE_CONTAGIO</th>\n",
       "      <th>UBICACION</th>\n",
       "      <th>ESTADO</th>\n",
       "    </tr>\n",
       "  </thead>\n",
       "  <tbody>\n",
       "    <tr>\n",
       "      <th>0</th>\n",
       "      <td>1</td>\n",
       "      <td>2020-02-26</td>\n",
       "      <td>2020-03-06</td>\n",
       "      <td>Bogotá</td>\n",
       "      <td>Usaquén</td>\n",
       "      <td>19</td>\n",
       "      <td>1</td>\n",
       "      <td>F</td>\n",
       "      <td>Importado</td>\n",
       "      <td>Casa</td>\n",
       "      <td>Recuperado</td>\n",
       "    </tr>\n",
       "    <tr>\n",
       "      <th>1</th>\n",
       "      <td>2</td>\n",
       "      <td>2020-03-04</td>\n",
       "      <td>2020-03-10</td>\n",
       "      <td>Bogotá</td>\n",
       "      <td>Engativá</td>\n",
       "      <td>22</td>\n",
       "      <td>1</td>\n",
       "      <td>F</td>\n",
       "      <td>Importado</td>\n",
       "      <td>Casa</td>\n",
       "      <td>Recuperado</td>\n",
       "    </tr>\n",
       "    <tr>\n",
       "      <th>2</th>\n",
       "      <td>3</td>\n",
       "      <td>2020-03-07</td>\n",
       "      <td>2020-03-10</td>\n",
       "      <td>Bogotá</td>\n",
       "      <td>Engativá</td>\n",
       "      <td>28</td>\n",
       "      <td>1</td>\n",
       "      <td>F</td>\n",
       "      <td>Importado</td>\n",
       "      <td>Casa</td>\n",
       "      <td>Recuperado</td>\n",
       "    </tr>\n",
       "    <tr>\n",
       "      <th>3</th>\n",
       "      <td>4</td>\n",
       "      <td>2020-03-06</td>\n",
       "      <td>2020-03-12</td>\n",
       "      <td>Bogotá</td>\n",
       "      <td>Fontibón</td>\n",
       "      <td>36</td>\n",
       "      <td>1</td>\n",
       "      <td>F</td>\n",
       "      <td>Importado</td>\n",
       "      <td>Casa</td>\n",
       "      <td>Recuperado</td>\n",
       "    </tr>\n",
       "    <tr>\n",
       "      <th>4</th>\n",
       "      <td>5</td>\n",
       "      <td>2020-03-06</td>\n",
       "      <td>2020-03-12</td>\n",
       "      <td>Bogotá</td>\n",
       "      <td>Kennedy</td>\n",
       "      <td>42</td>\n",
       "      <td>1</td>\n",
       "      <td>F</td>\n",
       "      <td>Importado</td>\n",
       "      <td>Casa</td>\n",
       "      <td>Recuperado</td>\n",
       "    </tr>\n",
       "    <tr>\n",
       "      <th>...</th>\n",
       "      <td>...</td>\n",
       "      <td>...</td>\n",
       "      <td>...</td>\n",
       "      <td>...</td>\n",
       "      <td>...</td>\n",
       "      <td>...</td>\n",
       "      <td>...</td>\n",
       "      <td>...</td>\n",
       "      <td>...</td>\n",
       "      <td>...</td>\n",
       "      <td>...</td>\n",
       "    </tr>\n",
       "    <tr>\n",
       "      <th>1449284</th>\n",
       "      <td>1449285</td>\n",
       "      <td>NaN</td>\n",
       "      <td>2021-09-25</td>\n",
       "      <td>Sin dato</td>\n",
       "      <td>Sin dato</td>\n",
       "      <td>17</td>\n",
       "      <td>1</td>\n",
       "      <td>F</td>\n",
       "      <td>En estudio</td>\n",
       "      <td>Casa</td>\n",
       "      <td>Leve</td>\n",
       "    </tr>\n",
       "    <tr>\n",
       "      <th>1449285</th>\n",
       "      <td>1449286</td>\n",
       "      <td>NaN</td>\n",
       "      <td>2021-09-26</td>\n",
       "      <td>Sin dato</td>\n",
       "      <td>Sin dato</td>\n",
       "      <td>79</td>\n",
       "      <td>1</td>\n",
       "      <td>M</td>\n",
       "      <td>En estudio</td>\n",
       "      <td>Casa</td>\n",
       "      <td>Leve</td>\n",
       "    </tr>\n",
       "    <tr>\n",
       "      <th>1449286</th>\n",
       "      <td>1449287</td>\n",
       "      <td>NaN</td>\n",
       "      <td>2021-09-25</td>\n",
       "      <td>Sin dato</td>\n",
       "      <td>Sin dato</td>\n",
       "      <td>38</td>\n",
       "      <td>1</td>\n",
       "      <td>M</td>\n",
       "      <td>En estudio</td>\n",
       "      <td>Casa</td>\n",
       "      <td>Leve</td>\n",
       "    </tr>\n",
       "    <tr>\n",
       "      <th>1449287</th>\n",
       "      <td>1449288</td>\n",
       "      <td>2021-09-09</td>\n",
       "      <td>2021-09-24</td>\n",
       "      <td>Sin dato</td>\n",
       "      <td>Sin dato</td>\n",
       "      <td>21</td>\n",
       "      <td>1</td>\n",
       "      <td>F</td>\n",
       "      <td>En estudio</td>\n",
       "      <td>Casa</td>\n",
       "      <td>Recuperado</td>\n",
       "    </tr>\n",
       "    <tr>\n",
       "      <th>1449288</th>\n",
       "      <td>1449289</td>\n",
       "      <td>2021-09-10</td>\n",
       "      <td>2021-09-25</td>\n",
       "      <td>Sin dato</td>\n",
       "      <td>Sin dato</td>\n",
       "      <td>36</td>\n",
       "      <td>1</td>\n",
       "      <td>F</td>\n",
       "      <td>En estudio</td>\n",
       "      <td>Casa</td>\n",
       "      <td>Recuperado</td>\n",
       "    </tr>\n",
       "  </tbody>\n",
       "</table>\n",
       "<p>1449289 rows × 11 columns</p>\n",
       "</div>"
      ],
      "text/plain": [
       "            CASO FECHA_DE_INICIO_DE_SINTOMAS FECHA_DIAGNOSTICO    CIUDAD  \\\n",
       "0              1                  2020-02-26        2020-03-06    Bogotá   \n",
       "1              2                  2020-03-04        2020-03-10    Bogotá   \n",
       "2              3                  2020-03-07        2020-03-10    Bogotá   \n",
       "3              4                  2020-03-06        2020-03-12    Bogotá   \n",
       "4              5                  2020-03-06        2020-03-12    Bogotá   \n",
       "...          ...                         ...               ...       ...   \n",
       "1449284  1449285                         NaN        2021-09-25  Sin dato   \n",
       "1449285  1449286                         NaN        2021-09-26  Sin dato   \n",
       "1449286  1449287                         NaN        2021-09-25  Sin dato   \n",
       "1449287  1449288                  2021-09-09        2021-09-24  Sin dato   \n",
       "1449288  1449289                  2021-09-10        2021-09-25  Sin dato   \n",
       "\n",
       "        LOCALIDAD_ASIS  EDAD  UNI_MED SEXO FUENTE_O_TIPO_DE_CONTAGIO  \\\n",
       "0              Usaquén    19        1    F                 Importado   \n",
       "1             Engativá    22        1    F                 Importado   \n",
       "2             Engativá    28        1    F                 Importado   \n",
       "3             Fontibón    36        1    F                 Importado   \n",
       "4              Kennedy    42        1    F                 Importado   \n",
       "...                ...   ...      ...  ...                       ...   \n",
       "1449284       Sin dato    17        1    F                En estudio   \n",
       "1449285       Sin dato    79        1    M                En estudio   \n",
       "1449286       Sin dato    38        1    M                En estudio   \n",
       "1449287       Sin dato    21        1    F                En estudio   \n",
       "1449288       Sin dato    36        1    F                En estudio   \n",
       "\n",
       "        UBICACION      ESTADO  \n",
       "0            Casa  Recuperado  \n",
       "1            Casa  Recuperado  \n",
       "2            Casa  Recuperado  \n",
       "3            Casa  Recuperado  \n",
       "4            Casa  Recuperado  \n",
       "...           ...         ...  \n",
       "1449284      Casa        Leve  \n",
       "1449285      Casa        Leve  \n",
       "1449286      Casa        Leve  \n",
       "1449287      Casa  Recuperado  \n",
       "1449288      Casa  Recuperado  \n",
       "\n",
       "[1449289 rows x 11 columns]"
      ]
     },
     "execution_count": 12,
     "metadata": {},
     "output_type": "execute_result"
    }
   ],
   "source": [
    "path = r\"C:\\Users\\lucas\\Downloads\\osb_enftransm_Covid19_27092021.csv\"\n",
    "# SaluData. Observatorio de Salud de Bogotá. (2020) Casos confirmados de COVID-19 en Bogotá D.C. (27 de septiembre 2021) \n",
    "\n",
    "CovidDf = pd.read_csv(path, sep = ';')\n",
    "CovidDf"
   ]
  },
  {
   "cell_type": "code",
   "execution_count": 13,
   "id": "665aaa2a",
   "metadata": {},
   "outputs": [
    {
     "data": {
      "text/plain": [
       "CASO                           1449289\n",
       "FECHA_DE_INICIO_DE_SINTOMAS     981982\n",
       "FECHA_DIAGNOSTICO              1449289\n",
       "CIUDAD                         1449289\n",
       "LOCALIDAD_ASIS                 1449289\n",
       "EDAD                           1449289\n",
       "UNI_MED                        1449289\n",
       "SEXO                           1449289\n",
       "FUENTE_O_TIPO_DE_CONTAGIO      1449289\n",
       "UBICACION                      1449289\n",
       "ESTADO                         1449289\n",
       "dtype: int64"
      ]
     },
     "execution_count": 13,
     "metadata": {},
     "output_type": "execute_result"
    }
   ],
   "source": [
    "CovidDf.count()"
   ]
  },
  {
   "cell_type": "code",
   "execution_count": null,
   "id": "cfddab7d",
   "metadata": {},
   "outputs": [],
   "source": []
  }
 ],
 "metadata": {
  "kernelspec": {
   "display_name": "Python 3 (ipykernel)",
   "language": "python",
   "name": "python3"
  },
  "language_info": {
   "codemirror_mode": {
    "name": "ipython",
    "version": 3
   },
   "file_extension": ".py",
   "mimetype": "text/x-python",
   "name": "python",
   "nbconvert_exporter": "python",
   "pygments_lexer": "ipython3",
   "version": "3.9.7"
  }
 },
 "nbformat": 4,
 "nbformat_minor": 5
}
