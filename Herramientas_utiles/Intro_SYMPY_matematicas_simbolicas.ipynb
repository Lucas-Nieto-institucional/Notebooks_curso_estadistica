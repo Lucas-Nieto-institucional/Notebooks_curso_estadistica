{
 "cells": [
  {
   "cell_type": "markdown",
   "id": "a2ddbf64",
   "metadata": {},
   "source": [
    "![image01](https://www.sympy.org/static/images/logo.png)\n",
    "\n",
    "# Matemáticas simbólicas con *Sympy*\n",
    "\n",
    "[*Sympy*](https://www.sympy.org/en/index.html) es una biblioteca de Python para matemáticas simbólicas. Su propósito es llegar a ser un sistema de álgebra por computadora (CAS) completo manteniendo el código tan simple como sea posible para poder ser legible y extensible de manera fácil.\n",
    "\n",
    "## Símbolos y expresiones\n",
    "\n",
    "Para habilitar la impresión de *LaTeX* de expresiones matemáticas se recomienda llamar la función ```init_printing()``` al comienzo de los cuadernos que usen *Sympy*. Las variables simbólicas (de ahora en adelante llamadas **símbolos**) son creadas con la función ```symbols()``` como el siguiente ejemplo:\n",
    "```python\n",
    "x = smp.symbols('x')\n",
    "```\n",
    "Las expresiones de *Sympy* pueden estar compuestas por símbolos, números, operadores matemáticos y funciones como en los siguientes ejemplos:"
   ]
  },
  {
   "cell_type": "code",
   "execution_count": 31,
   "id": "da601640",
   "metadata": {},
   "outputs": [
    {
     "data": {
      "image/png": "[encoded data removed]",
      "text/latex": [
       "$\\displaystyle x^{2} + y^{2}$"
      ],
      "text/plain": [
       " 2    2\n",
       "x  + y "
      ]
     },
     "execution_count": 31,
     "metadata": {},
     "output_type": "execute_result"
    }
   ],
   "source": [
    "import sympy as smp\n",
    "from sympy import *\n",
    "init_printing()\n",
    "\n",
    "x,y,z = smp.symbols('x y z')\n",
    "f = x**2 + y**2\n",
    "f"
   ]
  },
  {
   "cell_type": "code",
   "execution_count": 2,
   "id": "5be7333c",
   "metadata": {},
   "outputs": [
    {
     "data": {
      "image/png": "[encoded data removed]",
      "text/latex": [
       "$\\displaystyle \\sin{\\left(x \\right)}$"
      ],
      "text/plain": [
       "sin(x)"
      ]
     },
     "execution_count": 2,
     "metadata": {},
     "output_type": "execute_result"
    }
   ],
   "source": [
    "f = smp.sin(x)\n",
    "f"
   ]
  },
  {
   "cell_type": "code",
   "execution_count": 3,
   "id": "bd43d1e3",
   "metadata": {
    "scrolled": true
   },
   "outputs": [
    {
     "data": {
      "image/png": "[encoded data removed]",
      "text/latex": [
       "$\\displaystyle e^{x y z}$"
      ],
      "text/plain": [
       " x⋅y⋅z\n",
       "ℯ     "
      ]
     },
     "execution_count": 3,
     "metadata": {},
     "output_type": "execute_result"
    }
   ],
   "source": [
    "f = smp.exp(x*y*z)\n",
    "f"
   ]
  },
  {
   "cell_type": "code",
   "execution_count": 4,
   "id": "7c994d28",
   "metadata": {},
   "outputs": [
    {
     "data": {
      "image/png": "[encoded data removed]",
      "text/latex": [
       "$\\displaystyle \\sqrt{x}$"
      ],
      "text/plain": [
       "√x"
      ]
     },
     "execution_count": 4,
     "metadata": {},
     "output_type": "execute_result"
    }
   ],
   "source": [
    "smp.sqrt(x)"
   ]
  },
  {
   "cell_type": "code",
   "execution_count": 5,
   "id": "323c8827",
   "metadata": {
    "scrolled": true
   },
   "outputs": [
    {
     "data": {
      "image/png": "[encoded data removed]",
      "text/latex": [
       "$\\displaystyle \\log{\\left(x \\right)}$"
      ],
      "text/plain": [
       "log(x)"
      ]
     },
     "execution_count": 5,
     "metadata": {},
     "output_type": "execute_result"
    }
   ],
   "source": [
    "f = smp.ln(x) # Esta función se puede escribir como smp.ln() o smp.log(), El valor default para la base del logaritmo es e.\n",
    "f"
   ]
  },
  {
   "cell_type": "markdown",
   "id": "8b4267ee",
   "metadata": {},
   "source": [
    "Dado que las expresiones se pueden almacenar en variables, es posible operar sobre toda una expresión:"
   ]
  },
  {
   "cell_type": "code",
   "execution_count": 6,
   "id": "10852b0d",
   "metadata": {},
   "outputs": [
    {
     "data": {
      "image/png": "[encoded data removed]",
      "text/latex": [
       "$\\displaystyle \\left(x^{2} - y^{2} + z^{2}\\right)^{2}$"
      ],
      "text/plain": [
       "              2\n",
       "⎛ 2    2    2⎞ \n",
       "⎝x  - y  + z ⎠ "
      ]
     },
     "execution_count": 6,
     "metadata": {},
     "output_type": "execute_result"
    }
   ],
   "source": [
    "f = x**2 - y**2 + z**2\n",
    "f**2"
   ]
  },
  {
   "cell_type": "markdown",
   "id": "35396dc1",
   "metadata": {},
   "source": [
    "Para expandir expresiones como esta se usa el atributo ```expand()```"
   ]
  },
  {
   "cell_type": "code",
   "execution_count": 7,
   "id": "36b6f2a4",
   "metadata": {},
   "outputs": [
    {
     "data": {
      "image/png": "[encoded data removed]",
      "text/latex": [
       "$\\displaystyle x^{4} - 2 x^{2} y^{2} + 2 x^{2} z^{2} + y^{4} - 2 y^{2} z^{2} + z^{4}$"
      ],
      "text/plain": [
       " 4      2  2      2  2    4      2  2    4\n",
       "x  - 2⋅x ⋅y  + 2⋅x ⋅z  + y  - 2⋅y ⋅z  + z "
      ]
     },
     "execution_count": 7,
     "metadata": {},
     "output_type": "execute_result"
    }
   ],
   "source": [
    "f = x**2 - y**2 + z**2\n",
    "f = f**2\n",
    "f.expand()"
   ]
  },
  {
   "cell_type": "markdown",
   "id": "2d608b69",
   "metadata": {},
   "source": [
    "Y para factorizarlas, el atributo ```factor()```"
   ]
  },
  {
   "cell_type": "code",
   "execution_count": 8,
   "id": "c8e331bd",
   "metadata": {},
   "outputs": [
    {
     "data": {
      "image/png": "[encoded data removed]",
      "text/latex": [
       "$\\displaystyle \\left(x^{2} - y^{2} + z^{2}\\right)^{2}$"
      ],
      "text/plain": [
       "              2\n",
       "⎛ 2    2    2⎞ \n",
       "⎝x  - y  + z ⎠ "
      ]
     },
     "execution_count": 8,
     "metadata": {},
     "output_type": "execute_result"
    }
   ],
   "source": [
    "f = x**4 - ((2*x**2)*(y**2)) + ((2*x**2)*(z**2)) + y**4 - ((2*y**2)*(z**2)) + z**4\n",
    "f = f.factor()\n",
    "f"
   ]
  },
  {
   "cell_type": "markdown",
   "id": "2bc8f790",
   "metadata": {},
   "source": [
    "### Algunos recordatorios:\n",
    "\n",
    "- La función de logaritmo puede ser escrita como ```ln()``` o ```log()``` y el valor de su base por default es *e*, para una base diferente utilizar un segundo parámetro como en el ejemplo:"
   ]
  },
  {
   "cell_type": "code",
   "execution_count": 9,
   "id": "546ad2b4",
   "metadata": {},
   "outputs": [
    {
     "data": {
      "image/png": "[encoded data removed]",
      "text/latex": [
       "$\\displaystyle \\frac{\\log{\\left(x \\right)}}{\\log{\\left(10 \\right)}}$"
      ],
      "text/plain": [
       " log(x)\n",
       "───────\n",
       "log(10)"
      ]
     },
     "execution_count": 9,
     "metadata": {},
     "output_type": "execute_result"
    }
   ],
   "source": [
    "f = smp.log(x,10)\n",
    "f"
   ]
  },
  {
   "cell_type": "markdown",
   "id": "b6ba16cf",
   "metadata": {},
   "source": [
    "- Los logaritmos no naturales no se expresarán con la popular sintaxis $log_{a}b$, se expresarán como razones entre logaritmos naturales como en el ejemplo, esto será útil en diversas aplicaciones más adelante.\n",
    "\n",
    "- Las divisiones de enteros serán convertidas a floats, para expresarlas en fracción utilizar ```Rational(a,b)``` o ```smp.S(a)/b```"
   ]
  },
  {
   "cell_type": "code",
   "execution_count": 10,
   "id": "c2888491",
   "metadata": {},
   "outputs": [
    {
     "data": {
      "image/png": "[encoded data removed]",
      "text/latex": [
       "$\\displaystyle x^{1.5}$"
      ],
      "text/plain": [
       " 1.5\n",
       "x   "
      ]
     },
     "execution_count": 10,
     "metadata": {},
     "output_type": "execute_result"
    }
   ],
   "source": [
    "x**(3/2)"
   ]
  },
  {
   "cell_type": "code",
   "execution_count": 11,
   "id": "ba085dd4",
   "metadata": {},
   "outputs": [
    {
     "data": {
      "image/png": "[encoded data removed]",
      "text/latex": [
       "$\\displaystyle x^{\\frac{3}{2}}$"
      ],
      "text/plain": [
       " 3/2\n",
       "x   "
      ]
     },
     "execution_count": 11,
     "metadata": {},
     "output_type": "execute_result"
    }
   ],
   "source": [
    "x**(smp.S(3)/2)"
   ]
  },
  {
   "cell_type": "markdown",
   "id": "f3471a4c",
   "metadata": {},
   "source": [
    "- *Sympy* reconoce la sintaxis matemática de latex, por lo que los símbolos pueden ser caractéres griegos, tener subíndices, etc."
   ]
  },
  {
   "cell_type": "code",
   "execution_count": 12,
   "id": "36515eab",
   "metadata": {},
   "outputs": [
    {
     "data": {
      "image/png": "[encoded data removed]",
      "text/latex": [
       "$\\displaystyle \\left( \\alpha, \\  \\alpha_{2}, \\  \\beta_{\\alpha}\\right)$"
      ],
      "text/plain": [
       "(α, α₂, βₐₗₚₕₐ)"
      ]
     },
     "execution_count": 12,
     "metadata": {},
     "output_type": "execute_result"
    }
   ],
   "source": [
    "alpha, alpha_2, beta_alpha = smp.symbols('alpha, alpha_2, beta_alpha')\n",
    "alpha, alpha_2,beta_alpha"
   ]
  },
  {
   "cell_type": "markdown",
   "id": "66e4ca72",
   "metadata": {},
   "source": [
    "## Solucionar expresiones\n",
    "\n",
    "En igualdades con incógnitas, se puede usar la función ```solve()```. Esta retorna una lista con los valores de un símbolo $x$ tales que $f(x) = 0$. Si de antemano se conoce o se espera un valor real, positivo, etc. de alguna variable es buena práctica especificar el dominio esperado de esta variable para simplificar soluciones, por ejemplo:"
   ]
  },
  {
   "cell_type": "code",
   "execution_count": 13,
   "id": "51144a3b",
   "metadata": {},
   "outputs": [
    {
     "data": {
      "image/png": "[encoded data removed]",
      "text/latex": [
       "$\\displaystyle \\left[ - i, \\  i\\right]$"
      ],
      "text/plain": [
       "[-ⅈ, ⅈ]"
      ]
     },
     "execution_count": 13,
     "metadata": {},
     "output_type": "execute_result"
    }
   ],
   "source": [
    "x = smp.symbols('x')\n",
    "f = x**2 + 1\n",
    "smp.solve(f,x)"
   ]
  },
  {
   "cell_type": "markdown",
   "id": "c9293e26",
   "metadata": {},
   "source": [
    " Si no nos interesan las soluciones imaginarias de una raíz, esto se puede especificar como atributo del símbolo."
   ]
  },
  {
   "cell_type": "code",
   "execution_count": 14,
   "id": "3d998590",
   "metadata": {},
   "outputs": [
    {
     "data": {
      "image/png": "[encoded data removed]",
      "text/latex": [
       "$\\displaystyle \\left[ \\right]$"
      ],
      "text/plain": [
       "[]"
      ]
     },
     "execution_count": 14,
     "metadata": {},
     "output_type": "execute_result"
    }
   ],
   "source": [
    "x = smp.symbols('x', real = True)\n",
    "f = x**2 + 1\n",
    "smp.solve(f,x)"
   ]
  },
  {
   "cell_type": "markdown",
   "id": "c1dab163",
   "metadata": {},
   "source": [
    "*Sympy* también puede solucionar expresiones de múltiples variables con la función ```solve()```, esto retornará una lista de de valores para el símbolo específicado que pueden cumplir con la condición $f = 0$."
   ]
  },
  {
   "cell_type": "code",
   "execution_count": 15,
   "id": "4b5d70ce",
   "metadata": {},
   "outputs": [
    {
     "data": {
      "image/png": "[encoded data removed]",
      "text/latex": [
       "$\\displaystyle x^{2} + y \\sin{\\left(z \\right)}$"
      ],
      "text/plain": [
       " 2           \n",
       "x  + y⋅sin(z)"
      ]
     },
     "execution_count": 15,
     "metadata": {},
     "output_type": "execute_result"
    }
   ],
   "source": [
    "x,y,z = smp.symbols('x y z')\n",
    "f = x**2 + smp.sin(z)*y\n",
    "f"
   ]
  },
  {
   "cell_type": "code",
   "execution_count": 16,
   "id": "a08d01f3",
   "metadata": {},
   "outputs": [
    {
     "data": {
      "image/png": "[encoded data removed]",
      "text/latex": [
       "$\\displaystyle \\left[ - \\sqrt{- y \\sin{\\left(z \\right)}}, \\  \\sqrt{- y \\sin{\\left(z \\right)}}\\right]$"
      ],
      "text/plain": [
       "⎡   ___________    ___________⎤\n",
       "⎣-╲╱ -y⋅sin(z) , ╲╱ -y⋅sin(z) ⎦"
      ]
     },
     "execution_count": 16,
     "metadata": {},
     "output_type": "execute_result"
    }
   ],
   "source": [
    "smp.solve(f,x)"
   ]
  },
  {
   "cell_type": "code",
   "execution_count": 17,
   "id": "acd0ecf9",
   "metadata": {},
   "outputs": [
    {
     "data": {
      "image/png": "[encoded data removed]",
      "text/latex": [
       "$\\displaystyle \\left[ - \\frac{x^{2}}{\\sin{\\left(z \\right)}}\\right]$"
      ],
      "text/plain": [
       "⎡   2  ⎤\n",
       "⎢ -x   ⎥\n",
       "⎢──────⎥\n",
       "⎣sin(z)⎦"
      ]
     },
     "execution_count": 17,
     "metadata": {},
     "output_type": "execute_result"
    }
   ],
   "source": [
    "smp.solve(f,y)"
   ]
  },
  {
   "cell_type": "code",
   "execution_count": 18,
   "id": "26f7ca3b",
   "metadata": {},
   "outputs": [
    {
     "data": {
      "image/png": "[encoded data removed]",
      "text/latex": [
       "$\\displaystyle \\left[ \\operatorname{asin}{\\left(\\frac{x^{2}}{y} \\right)} + \\pi, \\  - \\operatorname{asin}{\\left(\\frac{x^{2}}{y} \\right)}\\right]$"
      ],
      "text/plain": [
       "⎡    ⎛ 2⎞           ⎛ 2⎞⎤\n",
       "⎢    ⎜x ⎟           ⎜x ⎟⎥\n",
       "⎢asin⎜──⎟ + π, -asin⎜──⎟⎥\n",
       "⎣    ⎝y ⎠           ⎝y ⎠⎦"
      ]
     },
     "execution_count": 18,
     "metadata": {},
     "output_type": "execute_result"
    }
   ],
   "source": [
    "smp.solve(f,z)"
   ]
  },
  {
   "cell_type": "markdown",
   "id": "af6361ce",
   "metadata": {},
   "source": [
    "## Sustituir en expresiones\n",
    "\n",
    "Esto se hace con el atributo ```subs()``` de las expresiones, recibe 2 parámetros: el símbolo a sustituir y su valor."
   ]
  },
  {
   "cell_type": "code",
   "execution_count": 19,
   "id": "4eebc13f",
   "metadata": {},
   "outputs": [
    {
     "data": {
      "image/png": "[encoded data removed]",
      "text/latex": [
       "$\\displaystyle x^{2} + y^{2} + 9$"
      ],
      "text/plain": [
       " 2    2    \n",
       "x  + y  + 9"
      ]
     },
     "execution_count": 19,
     "metadata": {},
     "output_type": "execute_result"
    }
   ],
   "source": [
    "r = x**2 + y**2 + z**2\n",
    "r.subs(z,3)"
   ]
  },
  {
   "cell_type": "markdown",
   "id": "8554c4f2",
   "metadata": {},
   "source": [
    "Para sustituir múltiples valores en una expresión, se puede concatenar el atributo ```subs()```:"
   ]
  },
  {
   "cell_type": "code",
   "execution_count": 20,
   "id": "1ebe0e99",
   "metadata": {},
   "outputs": [
    {
     "data": {
      "image/png": "[encoded data removed]",
      "text/latex": [
       "$\\displaystyle 29$"
      ],
      "text/plain": [
       "29"
      ]
     },
     "execution_count": 20,
     "metadata": {},
     "output_type": "execute_result"
    }
   ],
   "source": [
    "r.subs(x,2).subs(y,3).subs(z,4)"
   ]
  },
  {
   "cell_type": "markdown",
   "id": "d139d1f6",
   "metadata": {},
   "source": [
    "También se puede concatenar sustituciones con una lista de tuplas."
   ]
  },
  {
   "cell_type": "code",
   "execution_count": 21,
   "id": "d65baf0e",
   "metadata": {},
   "outputs": [
    {
     "data": {
      "image/png": "[encoded data removed]",
      "text/latex": [
       "$\\displaystyle x^{2} + 25$"
      ],
      "text/plain": [
       " 2     \n",
       "x  + 25"
      ]
     },
     "execution_count": 21,
     "metadata": {},
     "output_type": "execute_result"
    }
   ],
   "source": [
    "r.subs([(y,3),(z,4)])"
   ]
  },
  {
   "cell_type": "markdown",
   "id": "4a6c5e17",
   "metadata": {},
   "source": [
    "Los símbolos también pueden ser sustituidos con otras expresiones, considere por ejemplo: \n",
    "\n",
    "$ y + 2x^{2} $\n",
    "\n",
    "Sustituir $ y = x^{3} $ resultará en:\n",
    "\n",
    "$ x^{3} + 2x^{2} $"
   ]
  },
  {
   "cell_type": "code",
   "execution_count": 22,
   "id": "f6fbc950",
   "metadata": {},
   "outputs": [
    {
     "data": {
      "image/png": "[encoded data removed]",
      "text/latex": [
       "$\\displaystyle x^{3} + 2 x^{2}$"
      ],
      "text/plain": [
       " 3      2\n",
       "x  + 2⋅x "
      ]
     },
     "execution_count": 22,
     "metadata": {},
     "output_type": "execute_result"
    }
   ],
   "source": [
    "f = y + 2*x**2\n",
    "g = x**3\n",
    "\n",
    "f.subs(y,g)"
   ]
  },
  {
   "cell_type": "markdown",
   "id": "d7310853",
   "metadata": {},
   "source": [
    "Sin embargo, las expresiones son inmutables. El atributo ```subs()``` no reemplaza en la expresión, sólo completa una sustitución de una sola vez:"
   ]
  },
  {
   "cell_type": "code",
   "execution_count": 23,
   "id": "47fdfe05",
   "metadata": {},
   "outputs": [
    {
     "data": {
      "image/png": "[encoded data removed]",
      "text/latex": [
       "$\\displaystyle x^{2} + y^{2}$"
      ],
      "text/plain": [
       " 2    2\n",
       "x  + y "
      ]
     },
     "execution_count": 23,
     "metadata": {},
     "output_type": "execute_result"
    }
   ],
   "source": [
    "f = x**2 + y**2\n",
    "f.subs(y,2)\n",
    "f"
   ]
  },
  {
   "cell_type": "markdown",
   "id": "43a71956",
   "metadata": {},
   "source": [
    "Para guardar permanentemente una sustitución, esta debe ser asignada a otra variable:"
   ]
  },
  {
   "cell_type": "code",
   "execution_count": 24,
   "id": "33044613",
   "metadata": {},
   "outputs": [
    {
     "data": {
      "image/png": "[encoded data removed]",
      "text/latex": [
       "$\\displaystyle x^{2} + 4$"
      ],
      "text/plain": [
       " 2    \n",
       "x  + 4"
      ]
     },
     "execution_count": 24,
     "metadata": {},
     "output_type": "execute_result"
    }
   ],
   "source": [
    "f = x**2 + y**2\n",
    "fs = f.subs(y,2)\n",
    "fs"
   ]
  },
  {
   "cell_type": "markdown",
   "id": "5d4feeaa",
   "metadata": {},
   "source": [
    "## Evaluación numérica de expresiones\n",
    "\n",
    "Dado que muchos lenguajes y software no soportan representación matemática simbólica, es útil tener una forma de evaluar como floats los resultados de operaciones con una cantidad especificada de cifras decimales, para esto se usa la función ```evalf()```"
   ]
  },
  {
   "cell_type": "code",
   "execution_count": 25,
   "id": "68f0724c",
   "metadata": {},
   "outputs": [
    {
     "data": {
      "image/png": "[encoded data removed]",
      "text/latex": [
       "$\\displaystyle \\sqrt{2}$"
      ],
      "text/plain": [
       "√2"
      ]
     },
     "execution_count": 25,
     "metadata": {},
     "output_type": "execute_result"
    }
   ],
   "source": [
    "smp.sqrt(2)"
   ]
  },
  {
   "cell_type": "code",
   "execution_count": 26,
   "id": "9a987bdd",
   "metadata": {},
   "outputs": [
    {
     "data": {
      "image/png": "[encoded data removed]",
      "text/latex": [
       "$\\displaystyle 1.414213562$"
      ],
      "text/plain": [
       "1.414213562"
      ]
     },
     "execution_count": 26,
     "metadata": {},
     "output_type": "execute_result"
    }
   ],
   "source": [
    "smp.sqrt(2).evalf(10)"
   ]
  },
  {
   "cell_type": "markdown",
   "id": "745db8f7",
   "metadata": {},
   "source": [
    "## Expresiones y funciones\n",
    "\n",
    "Es posible tener una expresión simbólica de *Sympy* y convertirla a una función numérica de python con el fin de hacer plots, solucionar problemas que requieran funciones numéricas, etc. para esto se usa ```smp.lambdify()```."
   ]
  },
  {
   "cell_type": "code",
   "execution_count": 35,
   "id": "1a1ae561",
   "metadata": {},
   "outputs": [
    {
     "data": {
      "image/png": "[encoded data removed]",
      "text/latex": [
       "$\\displaystyle 3.41421356237309$"
      ],
      "text/plain": [
       "3.414213562373095"
      ]
     },
     "execution_count": 35,
     "metadata": {},
     "output_type": "execute_result"
    }
   ],
   "source": [
    "expr = x + smp.sqrt(x)\n",
    "func = smp.lambdify([x],expr) # lambdify recibe de parámetros una lista de variables de la función, y la expresión a convertir.\n",
    "func(2)"
   ]
  },
  {
   "cell_type": "code",
   "execution_count": 28,
   "id": "3b3b75d7",
   "metadata": {},
   "outputs": [
    {
     "data": {
      "image/png": "[encoded data removed]",
      "text/plain": [
       "<Figure size 432x288 with 1 Axes>"
      ]
     },
     "metadata": {
      "needs_background": "light"
     },
     "output_type": "display_data"
    }
   ],
   "source": [
    "import numpy as np\n",
    "import matplotlib.pyplot as plt\n",
    "\n",
    "x = np.linspace(0,1,100)\n",
    "y = func(x)\n",
    "plt.plot(x,y, c='r')\n",
    "plt.grid()"
   ]
  },
  {
   "cell_type": "markdown",
   "id": "ecc09273",
   "metadata": {},
   "source": [
    "## Más sobre expresiones:\n",
    "\n",
    "*Sympy* contiene funciones para matrices, funciones indefinidas, derivadas, ecuaciones diferenciales, etc. Las funciones a continuación son sólo algunos ejemplos de todas las operaciones que soporta esta librería, para conocer todo lo que se puede hacer con ella lo mejor es referirse a la documentación, *GitHub*, *YouTube* o cualquier otro tutorial disponible en la web.\n",
    "\n",
    "### Matrices\n",
    "\n",
    "Las matrices pueden crearse con listas anidadas y la función ```Matrix()```, pueden contener otras expresiones y soportan distintas operaciones:"
   ]
  },
  {
   "cell_type": "code",
   "execution_count": 33,
   "id": "a9ed3a3e",
   "metadata": {},
   "outputs": [
    {
     "data": {
      "text/latex": [
       "$\\displaystyle \\left[\\begin{matrix}1 & 0 & 1\\\\-1 & 2 & 3\\\\1 & 2 & 3\\end{matrix}\\right]$"
      ],
      "text/plain": [
       "⎡1   0  1⎤\n",
       "⎢        ⎥\n",
       "⎢-1  2  3⎥\n",
       "⎢        ⎥\n",
       "⎣1   2  3⎦"
      ]
     },
     "execution_count": 33,
     "metadata": {},
     "output_type": "execute_result"
    }
   ],
   "source": [
    "M = smp.Matrix([[1,0,1],[-1,2,3],[1,2,3]])\n",
    "M"
   ]
  },
  {
   "cell_type": "code",
   "execution_count": 34,
   "id": "35dca435",
   "metadata": {},
   "outputs": [
    {
     "data": {
      "text/latex": [
       "$\\displaystyle \\left[\\begin{matrix}x + z\\\\- x + 2 y + 3 z\\\\x + 2 y + 3 z\\end{matrix}\\right]$"
      ],
      "text/plain": [
       "⎡    x + z     ⎤\n",
       "⎢              ⎥\n",
       "⎢-x + 2⋅y + 3⋅z⎥\n",
       "⎢              ⎥\n",
       "⎣x + 2⋅y + 3⋅z ⎦"
      ]
     },
     "execution_count": 34,
     "metadata": {},
     "output_type": "execute_result"
    }
   ],
   "source": [
    "v = smp.Matrix([x,y,z])\n",
    "M*v"
   ]
  },
  {
   "cell_type": "markdown",
   "id": "5c74b532",
   "metadata": {},
   "source": [
    "### Funciones indefinidas\n",
    "\n",
    "Se definen con ```Function()``` y son útiles para indicar que una variable depende de otra sin especificar la expresión, esto es práctico en algunos problemas de diferenciación"
   ]
  },
  {
   "cell_type": "code",
   "execution_count": 32,
   "id": "64842eb8",
   "metadata": {},
   "outputs": [
    {
     "data": {
      "image/png": "[encoded data removed]",
      "text/latex": [
       "$\\displaystyle f{\\left(x \\right)} + f{\\left(y \\right)}$"
      ],
      "text/plain": [
       "f(x) + f(y)"
      ]
     },
     "execution_count": 32,
     "metadata": {},
     "output_type": "execute_result"
    }
   ],
   "source": [
    "f = smp.Function('f')\n",
    "f(x) + f(y) # El dominio puede ser asignado de definir la función"
   ]
  }
 ],
 "metadata": {
  "kernelspec": {
   "display_name": "Python 3 (ipykernel)",
   "language": "python",
   "name": "python3"
  },
  "language_info": {
   "codemirror_mode": {
    "name": "ipython",
    "version": 3
   },
   "file_extension": ".py",
   "mimetype": "text/x-python",
   "name": "python",
   "nbconvert_exporter": "python",
   "pygments_lexer": "ipython3",
   "version": "3.9.7"
  }
 },
 "nbformat": 4,
 "nbformat_minor": 5
}
