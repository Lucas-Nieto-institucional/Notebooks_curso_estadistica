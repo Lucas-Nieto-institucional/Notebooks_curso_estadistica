{
 "cells": [
  {
   "cell_type": "markdown",
   "id": "743431e5",
   "metadata": {},
   "source": [
    "<img src = \"https://numpy.org/images/logo.svg\" width=\"300\"/>\n",
    "\n",
    "\n",
    "# Computación numérica con *Numpy*\n",
    "\n",
    "[*NumPy*](https://numpy.org) es un paquete de Python para computación científica. Es una biblioteca de Python que proporciona objetos de matriz multidimensional, objetos derivados como matrices enmascaradas, y una variedad de rutinas para operaciones rápidas en matrices que incluyen manipulación matemática, lógica, de formas, clasificación, selección, transformadas, álgebra lineal, operaciones estadísticas, simulación aleatoria y mucho más.\n",
    "\n",
    "## Arrays\n",
    "\n",
    "Un **array** es la estructura de datos central del paquete *NumPy*, es un arreglo ordenado de elementos del mismo tipo, diferente a la lista tradicional de Python que puede contener distintos tipos de datos. La ventaja del **array** sobre una lista radica en que se le puede aplicar una gran variedad de operadores matemáticos que no pueden ser normalmente usados en listas. Por ejemplo, un **array** se puede multiplicar por un escalar mientras que las listas no. Los arrays pueden ser creados a partir de una lista y son computacionalmente más eficientes y compactos que las listas, requieren menos espacio de almacenamiento.\n",
    "<img src = \"https://numpy.org/doc/stable/_images/np_array.png\" width=\"720\"/>"
   ]
  },
  {
   "cell_type": "code",
   "execution_count": 1,
   "id": "5953e6aa",
   "metadata": {},
   "outputs": [
    {
     "data": {
      "text/plain": [
       "array([1, 2, 3])"
      ]
     },
     "execution_count": 1,
     "metadata": {},
     "output_type": "execute_result"
    }
   ],
   "source": [
    "import numpy as np\n",
    "\n",
    "v = np.array([1,2,3])\n",
    "v"
   ]
  },
  {
   "cell_type": "markdown",
   "id": "c4748d6d",
   "metadata": {},
   "source": [
    "### ¿Cuales son los atributos de un Array?\n",
    "\n",
    "El rango (<font color = red>rank</font>) de un **array** es su número de dimensiones, mientras que su forma (<font color = red>shape</font>) será una tupla de enteros con el tamaño del array en cada dimensión. En *NumPy* las dimensiones son llamadas ejes (<font color = red>axes</font>)."
   ]
  },
  {
   "cell_type": "code",
   "execution_count": 2,
   "id": "95bb49b5",
   "metadata": {},
   "outputs": [
    {
     "data": {
      "text/plain": [
       "array([[1, 2],\n",
       "       [3, 4],\n",
       "       [5, 6]])"
      ]
     },
     "execution_count": 2,
     "metadata": {},
     "output_type": "execute_result"
    }
   ],
   "source": [
    "m = np.array([[1,2],[3,4],[5,6]])\n",
    "m"
   ]
  },
  {
   "cell_type": "markdown",
   "id": "a680aca9",
   "metadata": {},
   "source": [
    "En este caso el primer eje de ```m``` tiene un tamaño de 3, mientras que su segundeo eje tiene un tamaño de 4. Para acceder a esta información se emplean los atributos: ```ndim```(rango), ```shape```(dimensiones) y ```size```(cantidad de elementos).\n",
    "<img src = \"https://numpy.org/doc/stable/_images/np_create_matrix.png\" width=\"720\"/>"
   ]
  },
  {
   "cell_type": "code",
   "execution_count": 3,
   "id": "42c05112",
   "metadata": {
    "scrolled": false
   },
   "outputs": [
    {
     "name": "stdout",
     "output_type": "stream",
     "text": [
      "El array m tiene 2 ejes, este array es una matriz de dimensión (3, 2) y contiene 6 elementos.\n"
     ]
    }
   ],
   "source": [
    "print(\"El array m tiene\",m.ndim,\"ejes, este array es una matriz de dimensión\",m.shape,\"y contiene\",m.size,\"elementos.\")"
   ]
  },
  {
   "cell_type": "markdown",
   "id": "e9850974",
   "metadata": {},
   "source": [
    "A veces los **arrays** son llamados \"ndarray\", esto es la abreviatura de \"N-dimensional array\", lo cual es simplemente un array de cualquier número de dimensiones. En otras ocasiones serán referidos como **1-D array** o array de una dimensión, **2-D array** o array de dos dimensiones, etc. Un **vector** es un array de una única dimensión (no hay distinción entre columnas y filas) mientras que una **matriz** refiere a un array de dos dimensiones. Para arrays con 3 dimensiones o más se suele utilizar el término **tensor**."
   ]
  },
  {
   "cell_type": "markdown",
   "id": "3d0c5cb2",
   "metadata": {},
   "source": [
    "### Acceder a los elementos de un array\n",
    "\n",
    "Los elementos de un **array** son accesibles con los mismos métodos de indexing y slicing de las listas:\n",
    "<img src = \"https://numpy.org/doc/stable/_images/np_indexing.png\" width=\"860\"/>"
   ]
  },
  {
   "cell_type": "code",
   "execution_count": 4,
   "id": "59a853bf",
   "metadata": {
    "scrolled": true
   },
   "outputs": [
    {
     "data": {
      "text/plain": [
       "array([1, 2, 3])"
      ]
     },
     "execution_count": 4,
     "metadata": {},
     "output_type": "execute_result"
    }
   ],
   "source": [
    "v"
   ]
  },
  {
   "cell_type": "code",
   "execution_count": 5,
   "id": "1761e1a2",
   "metadata": {},
   "outputs": [
    {
     "data": {
      "text/plain": [
       "(1, array([1, 2]), array([2, 3]))"
      ]
     },
     "execution_count": 5,
     "metadata": {},
     "output_type": "execute_result"
    }
   ],
   "source": [
    "v[0],v[0:2],v[-2:]"
   ]
  },
  {
   "cell_type": "markdown",
   "id": "69aa123c",
   "metadata": {},
   "source": [
    "### Especificar el tipo de datos de un array\n",
    "\n",
    "El data type por default de los elementos de un **array** es el de números decimales o floating points (<font color = red>np.float64</font>). Sin embargo, los **arrays** reciben un segundo parametro para especificar el tipo de datos esperado de los elementos, esto puede servir para optimizar la ejecución del código. Para hacerlo se especifíca explícitamente el data type utilizando el parámetro <font color = red>dtype</font>:"
   ]
  },
  {
   "cell_type": "code",
   "execution_count": 6,
   "id": "22df86b6",
   "metadata": {},
   "outputs": [
    {
     "data": {
      "text/plain": [
       "array([1, 2, 3, 4, 5, 6], dtype=int64)"
      ]
     },
     "execution_count": 6,
     "metadata": {},
     "output_type": "execute_result"
    }
   ],
   "source": [
    "np.array([1,2,3,4,5,6], dtype = np.int64)"
   ]
  },
  {
   "cell_type": "markdown",
   "id": "a0147795",
   "metadata": {},
   "source": [
    "### Más formas de crear arrays\n",
    "\n",
    "Se puede crear un array lleno de 0's con la función ```zeros()```:"
   ]
  },
  {
   "cell_type": "code",
   "execution_count": 7,
   "id": "7407d1d4",
   "metadata": {},
   "outputs": [
    {
     "data": {
      "text/plain": [
       "array([[0., 0., 0.],\n",
       "       [0., 0., 0.],\n",
       "       [0., 0., 0.],\n",
       "       [0., 0., 0.]])"
      ]
     },
     "execution_count": 7,
     "metadata": {},
     "output_type": "execute_result"
    }
   ],
   "source": [
    "np.zeros([4,3])"
   ]
  },
  {
   "cell_type": "markdown",
   "id": "ee9e0e9d",
   "metadata": {},
   "source": [
    "O un array lleno de 1's con la función ```ones()```:"
   ]
  },
  {
   "cell_type": "code",
   "execution_count": 8,
   "id": "d37cda20",
   "metadata": {},
   "outputs": [
    {
     "data": {
      "text/plain": [
       "array([[1, 1, 1, 1],\n",
       "       [1, 1, 1, 1],\n",
       "       [1, 1, 1, 1]], dtype=int64)"
      ]
     },
     "execution_count": 8,
     "metadata": {},
     "output_type": "execute_result"
    }
   ],
   "source": [
    "np.ones([3,4], dtype = np.int64)"
   ]
  },
  {
   "cell_type": "markdown",
   "id": "297cb494",
   "metadata": {},
   "source": [
    "Se puede también crear **arrays 1D** con las funciones ```linspace()``` y ```arange()```, ambas funciones reciben 3 parámetros y en ambas los primeros dos son el límite inferior y superior del array respectivamente. La diferencia consiste en que el tercer parámetro de ```linspace()``` especifíca la cantidad de elementos del array y el tercer parámetro de ```arange()``` especifíca la diferencia entre cada elemento del array:"
   ]
  },
  {
   "cell_type": "code",
   "execution_count": 9,
   "id": "587f913d",
   "metadata": {},
   "outputs": [
    {
     "data": {
      "text/plain": [
       "array([ 1.        ,  1.18367347,  1.36734694,  1.55102041,  1.73469388,\n",
       "        1.91836735,  2.10204082,  2.28571429,  2.46938776,  2.65306122,\n",
       "        2.83673469,  3.02040816,  3.20408163,  3.3877551 ,  3.57142857,\n",
       "        3.75510204,  3.93877551,  4.12244898,  4.30612245,  4.48979592,\n",
       "        4.67346939,  4.85714286,  5.04081633,  5.2244898 ,  5.40816327,\n",
       "        5.59183673,  5.7755102 ,  5.95918367,  6.14285714,  6.32653061,\n",
       "        6.51020408,  6.69387755,  6.87755102,  7.06122449,  7.24489796,\n",
       "        7.42857143,  7.6122449 ,  7.79591837,  7.97959184,  8.16326531,\n",
       "        8.34693878,  8.53061224,  8.71428571,  8.89795918,  9.08163265,\n",
       "        9.26530612,  9.44897959,  9.63265306,  9.81632653, 10.        ])"
      ]
     },
     "execution_count": 9,
     "metadata": {},
     "output_type": "execute_result"
    }
   ],
   "source": [
    "np.linspace(1,10,50)"
   ]
  },
  {
   "cell_type": "code",
   "execution_count": 10,
   "id": "525cef9b",
   "metadata": {},
   "outputs": [
    {
     "data": {
      "text/plain": [
       "array([0.  , 0.05, 0.1 , 0.15, 0.2 , 0.25, 0.3 , 0.35, 0.4 , 0.45, 0.5 ,\n",
       "       0.55, 0.6 , 0.65, 0.7 , 0.75, 0.8 , 0.85, 0.9 , 0.95, 1.  , 1.05,\n",
       "       1.1 , 1.15, 1.2 , 1.25, 1.3 , 1.35, 1.4 , 1.45, 1.5 , 1.55, 1.6 ,\n",
       "       1.65, 1.7 , 1.75, 1.8 , 1.85, 1.9 , 1.95, 2.  , 2.05, 2.1 , 2.15,\n",
       "       2.2 , 2.25, 2.3 , 2.35, 2.4 , 2.45, 2.5 , 2.55, 2.6 , 2.65, 2.7 ,\n",
       "       2.75, 2.8 , 2.85, 2.9 , 2.95, 3.  , 3.05, 3.1 , 3.15, 3.2 , 3.25,\n",
       "       3.3 , 3.35, 3.4 , 3.45, 3.5 , 3.55, 3.6 , 3.65, 3.7 , 3.75, 3.8 ,\n",
       "       3.85, 3.9 , 3.95, 4.  , 4.05, 4.1 , 4.15, 4.2 , 4.25, 4.3 , 4.35,\n",
       "       4.4 , 4.45, 4.5 , 4.55, 4.6 , 4.65, 4.7 , 4.75, 4.8 , 4.85, 4.9 ,\n",
       "       4.95])"
      ]
     },
     "execution_count": 10,
     "metadata": {},
     "output_type": "execute_result"
    }
   ],
   "source": [
    "np.arange(0,5,0.05)"
   ]
  },
  {
   "cell_type": "markdown",
   "id": "a03af9de",
   "metadata": {},
   "source": [
    "También se pueden crear **arrays** a partir de datos ya existentes, la función ```concatenate()``` recibe una tupla de arrays que puede concatenar:"
   ]
  },
  {
   "cell_type": "code",
   "execution_count": 11,
   "id": "dff01500",
   "metadata": {},
   "outputs": [
    {
     "data": {
      "text/plain": [
       "array([1, 2, 3, 4, 5, 5, 6, 7, 8, 9])"
      ]
     },
     "execution_count": 11,
     "metadata": {},
     "output_type": "execute_result"
    }
   ],
   "source": [
    "a = np.array([1,2,3,4,5])\n",
    "b = np.array([5,6,7,8,9])\n",
    "np.concatenate((a,b))"
   ]
  },
  {
   "cell_type": "markdown",
   "id": "d9841394",
   "metadata": {},
   "source": [
    "```concatenate()``` también es aplicable a matrices, el parámetro ```axis``` indica en qué eje se va a concatenar:"
   ]
  },
  {
   "cell_type": "code",
   "execution_count": 12,
   "id": "4501aed0",
   "metadata": {},
   "outputs": [
    {
     "name": "stdout",
     "output_type": "stream",
     "text": [
      "\n",
      "Si se concatena en el primer eje:\n",
      " [[3 1]\n",
      " [4 1]\n",
      " [5 9]\n",
      " [2 6]]\n",
      "\n",
      "Si se concatena en el segundo eje:\n",
      " [[3 1 5 9]\n",
      " [4 1 2 6]]\n"
     ]
    }
   ],
   "source": [
    "x = np.array([[3,1],[4,1]])\n",
    "y = np.array([[5,9],[2,6]])\n",
    "print()\n",
    "print(\"Si se concatena en el primer eje:\\n\", np.concatenate((x,y),axis=0) )\n",
    "print(\"\\nSi se concatena en el segundo eje:\\n\", np.concatenate((x,y),axis=1) )"
   ]
  },
  {
   "cell_type": "markdown",
   "id": "c4287b6e",
   "metadata": {},
   "source": [
    "Si *```x```* y *```y```* tuvieran diferente dimensión, es indispensable especificar el eje en que se va a concatenar y que las dimensiones de la matriz final sean coherentes:"
   ]
  },
  {
   "cell_type": "code",
   "execution_count": 13,
   "id": "1bd2e378",
   "metadata": {},
   "outputs": [
    {
     "data": {
      "text/plain": [
       "array([[3, 1],\n",
       "       [4, 1],\n",
       "       [5, 9],\n",
       "       [2, 6]])"
      ]
     },
     "execution_count": 13,
     "metadata": {},
     "output_type": "execute_result"
    }
   ],
   "source": [
    "x2 = np.array([[3,1],[4,1]])\n",
    "y2 = np.array([[5,9]])\n",
    "np.concatenate((x2,y),axis=0)"
   ]
  },
  {
   "cell_type": "markdown",
   "id": "b692b220",
   "metadata": {},
   "source": [
    "De lo contrario el intérprete retornará el siguiente error:"
   ]
  },
  {
   "cell_type": "code",
   "execution_count": 14,
   "id": "6860a38e",
   "metadata": {},
   "outputs": [
    {
     "ename": "ValueError",
     "evalue": "all the input array dimensions for the concatenation axis must match exactly, but along dimension 0, the array at index 0 has size 2 and the array at index 1 has size 1",
     "output_type": "error",
     "traceback": [
      "\u001b[1;31m---------------------------------------------------------------------------\u001b[0m",
      "\u001b[1;31mValueError\u001b[0m                                Traceback (most recent call last)",
      "\u001b[1;32m~\\AppData\\Local\\Temp/ipykernel_11304/758603749.py\u001b[0m in \u001b[0;36m<module>\u001b[1;34m\u001b[0m\n\u001b[0;32m      1\u001b[0m \u001b[0mx2\u001b[0m \u001b[1;33m=\u001b[0m \u001b[0mnp\u001b[0m\u001b[1;33m.\u001b[0m\u001b[0marray\u001b[0m\u001b[1;33m(\u001b[0m\u001b[1;33m[\u001b[0m\u001b[1;33m[\u001b[0m\u001b[1;36m3\u001b[0m\u001b[1;33m,\u001b[0m\u001b[1;36m1\u001b[0m\u001b[1;33m]\u001b[0m\u001b[1;33m,\u001b[0m\u001b[1;33m[\u001b[0m\u001b[1;36m4\u001b[0m\u001b[1;33m,\u001b[0m\u001b[1;36m1\u001b[0m\u001b[1;33m]\u001b[0m\u001b[1;33m]\u001b[0m\u001b[1;33m)\u001b[0m\u001b[1;33m\u001b[0m\u001b[1;33m\u001b[0m\u001b[0m\n\u001b[0;32m      2\u001b[0m \u001b[0my2\u001b[0m \u001b[1;33m=\u001b[0m \u001b[0mnp\u001b[0m\u001b[1;33m.\u001b[0m\u001b[0marray\u001b[0m\u001b[1;33m(\u001b[0m\u001b[1;33m[\u001b[0m\u001b[1;33m[\u001b[0m\u001b[1;36m5\u001b[0m\u001b[1;33m,\u001b[0m\u001b[1;36m9\u001b[0m\u001b[1;33m]\u001b[0m\u001b[1;33m]\u001b[0m\u001b[1;33m)\u001b[0m\u001b[1;33m\u001b[0m\u001b[1;33m\u001b[0m\u001b[0m\n\u001b[1;32m----> 3\u001b[1;33m \u001b[0mnp\u001b[0m\u001b[1;33m.\u001b[0m\u001b[0mconcatenate\u001b[0m\u001b[1;33m(\u001b[0m\u001b[1;33m(\u001b[0m\u001b[0mx2\u001b[0m\u001b[1;33m,\u001b[0m\u001b[0my2\u001b[0m\u001b[1;33m)\u001b[0m\u001b[1;33m,\u001b[0m\u001b[0maxis\u001b[0m\u001b[1;33m=\u001b[0m\u001b[1;36m1\u001b[0m\u001b[1;33m)\u001b[0m\u001b[1;33m\u001b[0m\u001b[1;33m\u001b[0m\u001b[0m\n\u001b[0m",
      "\u001b[1;32m<__array_function__ internals>\u001b[0m in \u001b[0;36mconcatenate\u001b[1;34m(*args, **kwargs)\u001b[0m\n",
      "\u001b[1;31mValueError\u001b[0m: all the input array dimensions for the concatenation axis must match exactly, but along dimension 0, the array at index 0 has size 2 and the array at index 1 has size 1"
     ]
    }
   ],
   "source": [
    "x2 = np.array([[3,1],[4,1]])\n",
    "y2 = np.array([[5,9]])\n",
    "np.concatenate((x2,y2),axis=1)"
   ]
  },
  {
   "cell_type": "markdown",
   "id": "494a6252",
   "metadata": {},
   "source": [
    "Otros métodos para crear **arrays** a partir de otros que ya existan utilizan los métodos de slicing e indexing, por ejemplo:"
   ]
  },
  {
   "cell_type": "code",
   "execution_count": 15,
   "id": "76796c12",
   "metadata": {},
   "outputs": [
    {
     "data": {
      "text/plain": [
       "array([4, 5, 6, 7, 8])"
      ]
     },
     "execution_count": 15,
     "metadata": {},
     "output_type": "execute_result"
    }
   ],
   "source": [
    "a = np.array([1,2,3,4,5,6,7,8,9,10])\n",
    "np.array(a[3:8])"
   ]
  },
  {
   "cell_type": "markdown",
   "id": "8eaa3b03",
   "metadata": {},
   "source": [
    "Este último método también es el más eficiente para eliminar elementos de un **array**. Otra forma de concatenar matrices de igual dimensión menos complicada que la función ```concatenate()```, son las funciones de apilar verticalmente: ```vstack()``` y apilar horizontalmente: ```hstack()```. Esto ayuda a no tener que pensar mucho en el eje de concatenación."
   ]
  },
  {
   "cell_type": "code",
   "execution_count": 16,
   "id": "cdbe8e10",
   "metadata": {},
   "outputs": [
    {
     "data": {
      "text/plain": [
       "array([[3, 1],\n",
       "       [4, 1],\n",
       "       [5, 9],\n",
       "       [2, 6]])"
      ]
     },
     "execution_count": 16,
     "metadata": {},
     "output_type": "execute_result"
    }
   ],
   "source": [
    "np.vstack((x,y))"
   ]
  },
  {
   "cell_type": "code",
   "execution_count": 17,
   "id": "f6fc3ae9",
   "metadata": {},
   "outputs": [
    {
     "data": {
      "text/plain": [
       "array([[3, 1, 5, 9],\n",
       "       [4, 1, 2, 6]])"
      ]
     },
     "execution_count": 17,
     "metadata": {},
     "output_type": "execute_result"
    }
   ],
   "source": [
    "np.hstack((x,y))"
   ]
  },
  {
   "cell_type": "markdown",
   "id": "dca2d9ab",
   "metadata": {},
   "source": [
    "También es posible crear múltiples **arrays** de uno solo utilizando las funciones de dividir verticalmente: ```vstack()``` y dividir horizontalmente: ```hstack()```:"
   ]
  },
  {
   "cell_type": "code",
   "execution_count": 18,
   "id": "f7ca18b5",
   "metadata": {},
   "outputs": [
    {
     "data": {
      "text/plain": [
       "array([[3, 1, 4, 1, 5, 9, 2, 6],\n",
       "       [5, 3, 5, 8, 9, 7, 9, 3],\n",
       "       [2, 3, 8, 4, 6, 2, 6, 4],\n",
       "       [3, 3, 8, 3, 2, 7, 9, 5],\n",
       "       [0, 2, 8, 8, 4, 1, 9, 7]])"
      ]
     },
     "execution_count": 18,
     "metadata": {},
     "output_type": "execute_result"
    }
   ],
   "source": [
    "M = np.array([[3,1,4,1,5,9,2,6],[5,3,5,8,9,7,9,3],[2,3,8,4,6,2,6,4],[3,3,8,3,2,7,9,5],[0,2,8,8,4,1,9,7]])\n",
    "M"
   ]
  },
  {
   "cell_type": "markdown",
   "id": "ea588a2d",
   "metadata": {},
   "source": [
    "```M``` se podría separar verticalmente en dos **arrays** del mismo tamaño con:"
   ]
  },
  {
   "cell_type": "code",
   "execution_count": 19,
   "id": "92c7c5bc",
   "metadata": {},
   "outputs": [
    {
     "data": {
      "text/plain": [
       "[array([[3, 1, 4, 1],\n",
       "        [5, 3, 5, 8],\n",
       "        [2, 3, 8, 4],\n",
       "        [3, 3, 8, 3],\n",
       "        [0, 2, 8, 8]]),\n",
       " array([[5, 9, 2, 6],\n",
       "        [9, 7, 9, 3],\n",
       "        [6, 2, 6, 4],\n",
       "        [2, 7, 9, 5],\n",
       "        [4, 1, 9, 7]])]"
      ]
     },
     "execution_count": 19,
     "metadata": {},
     "output_type": "execute_result"
    }
   ],
   "source": [
    "np.hsplit(M,2)"
   ]
  },
  {
   "cell_type": "markdown",
   "id": "6d676c40",
   "metadata": {},
   "source": [
    "O usando una tupla se podría dividir horizontalmente en 3 **arrays** con las posiciones indicadas en la tupla:"
   ]
  },
  {
   "cell_type": "code",
   "execution_count": 20,
   "id": "e0a4bb1c",
   "metadata": {},
   "outputs": [
    {
     "data": {
      "text/plain": [
       "[array([[3, 1],\n",
       "        [5, 3],\n",
       "        [2, 3],\n",
       "        [3, 3],\n",
       "        [0, 2]]),\n",
       " array([[4, 1, 5, 9],\n",
       "        [5, 8, 9, 7],\n",
       "        [8, 4, 6, 2],\n",
       "        [8, 3, 2, 7],\n",
       "        [8, 8, 4, 1]]),\n",
       " array([[2, 6],\n",
       "        [9, 3],\n",
       "        [6, 4],\n",
       "        [9, 5],\n",
       "        [9, 7]])]"
      ]
     },
     "execution_count": 20,
     "metadata": {},
     "output_type": "execute_result"
    }
   ],
   "source": [
    "np.hsplit(M,(2,6)) # Un array corresponde a los elementos previos a la posición 2, el siguiente a los elementos entre las\n",
    "                   # posiciones 2 y 6, y el último a los elementos de la posición 6 en adelante."
   ]
  },
  {
   "cell_type": "markdown",
   "id": "75cf1192",
   "metadata": {},
   "source": [
    "Estos mismos métodos se pueden aplicar verticalmente:"
   ]
  },
  {
   "cell_type": "code",
   "execution_count": 21,
   "id": "37bccb4b",
   "metadata": {},
   "outputs": [
    {
     "data": {
      "text/plain": [
       "[array([[3, 1, 4, 1, 5, 9, 2, 6],\n",
       "        [5, 3, 5, 8, 9, 7, 9, 3]]),\n",
       " array([[2, 3, 8, 4, 6, 2, 6, 4]]),\n",
       " array([[3, 3, 8, 3, 2, 7, 9, 5],\n",
       "        [0, 2, 8, 8, 4, 1, 9, 7]])]"
      ]
     },
     "execution_count": 21,
     "metadata": {},
     "output_type": "execute_result"
    }
   ],
   "source": [
    "np.vsplit(M,(2,3))"
   ]
  }
 ],
 "metadata": {
  "kernelspec": {
   "display_name": "Python 3 (ipykernel)",
   "language": "python",
   "name": "python3"
  },
  "language_info": {
   "codemirror_mode": {
    "name": "ipython",
    "version": 3
   },
   "file_extension": ".py",
   "mimetype": "text/x-python",
   "name": "python",
   "nbconvert_exporter": "python",
   "pygments_lexer": "ipython3",
   "version": "3.9.7"
  }
 },
 "nbformat": 4,
 "nbformat_minor": 5
}
