{
 "cells": [
  {
   "cell_type": "markdown",
   "id": "743431e5",
   "metadata": {},
   "source": [
    "<img src = \"https://numpy.org/images/logo.svg\" width=\"300\"/>\n",
    "\n",
    "\n",
    "# Computación numérica con *Numpy*\n",
    "\n",
    "[*NumPy*](https://numpy.org) es un paquete de Python para computación científica. Es una biblioteca de Python que proporciona objetos de matriz multidimensional, objetos derivados como matrices enmascaradas, y una variedad de rutinas para operaciones rápidas en matrices que incluyen manipulación matemática, lógica, de formas, clasificación, selección, transformadas, álgebra lineal, operaciones estadísticas, simulación aleatoria y mucho más.\n",
    "\n",
    "## Arrays\n",
    "\n",
    "Un **array** es la estructura de datos central del paquete *NumPy*, es un arreglo ordenado de elementos del mismo tipo, diferente a la lista tradicional de Python que puede contener distintos tipos de datos. La ventaja del **array** sobre una lista radica en que se le puede aplicar una gran variedad de operadores matemáticos que no pueden ser normalmente usados en listas. Por ejemplo, un **array** se puede multiplicar por un escalar mientras que las listas no. Los arrays pueden ser creados a partir de una lista y son computacionalmente más eficientes y compactos que las listas, requieren menos espacio de almacenamiento.\n",
    "<img src = \"https://numpy.org/doc/stable/_images/np_array.png\" width=\"720\"/>"
   ]
  },
  {
   "cell_type": "code",
   "execution_count": 1,
   "id": "5953e6aa",
   "metadata": {},
   "outputs": [
    {
     "data": {
      "text/plain": [
       "array([1, 2, 3])"
      ]
     },
     "execution_count": 1,
     "metadata": {},
     "output_type": "execute_result"
    }
   ],
   "source": [
    "import numpy as np\n",
    "\n",
    "v = np.array([1,2,3])\n",
    "v"
   ]
  },
  {
   "cell_type": "markdown",
   "id": "c4748d6d",
   "metadata": {},
   "source": [
    "### ¿Cuales son los atributos de un Array?\n",
    "\n",
    "El rango (<font color = red>rank</font>) de un **array** es su número de dimensiones, mientras que su forma (<font color = red>shape</font>) será una tupla de enteros con el tamaño del array en cada dimensión. En *NumPy* las dimensiones son llamadas ejes (<font color = red>axes</font>)."
   ]
  },
  {
   "cell_type": "code",
   "execution_count": 2,
   "id": "95bb49b5",
   "metadata": {},
   "outputs": [
    {
     "data": {
      "text/plain": [
       "array([[1, 2],\n",
       "       [3, 4],\n",
       "       [5, 6]])"
      ]
     },
     "execution_count": 2,
     "metadata": {},
     "output_type": "execute_result"
    }
   ],
   "source": [
    "m = np.array([[1,2],[3,4],[5,6]])\n",
    "m"
   ]
  },
  {
   "cell_type": "markdown",
   "id": "a680aca9",
   "metadata": {},
   "source": [
    "En este caso el primer eje de ```m``` tiene un tamaño de 3, mientras que su segundeo eje tiene un tamaño de 4. Para acceder a esta información se emplean los atributos: ```ndim```(rango), ```shape```(dimensiones) y ```size```(cantidad de elementos).\n",
    "<img src = \"https://numpy.org/doc/stable/_images/np_create_matrix.png\" width=\"720\"/>"
   ]
  },
  {
   "cell_type": "code",
   "execution_count": 3,
   "id": "42c05112",
   "metadata": {
    "scrolled": false
   },
   "outputs": [
    {
     "name": "stdout",
     "output_type": "stream",
     "text": [
      "El array m tiene 2 ejes, este array es una matriz de (3, 2) y contiene 6 elementos.\n"
     ]
    }
   ],
   "source": [
    "print(\"El array m tiene\",m.ndim,\"ejes, este array es una matriz de\",m.shape,\"y contiene\",m.size,\"elementos.\")"
   ]
  },
  {
   "cell_type": "markdown",
   "id": "e9850974",
   "metadata": {},
   "source": [
    "A veces los **arrays** son llamados \"ndarray\", esto es la abreviatura de \"N-dimensional array\", lo cual es simplemente un array de cualquier número de dimensiones. En otras ocasiones serán referidos como **1-D array** o array de una dimensión, **2-D array** o array de dos dimensiones, etc. Un **vector** es un array de una única dimensión (no hay distinción entre columnas y filas) mientras que una **matriz** refiere a un array de dos dimensiones. Para arrays con 3 dimensiones o más se suele utilizar el término **tensor**."
   ]
  },
  {
   "cell_type": "markdown",
   "id": "3d0c5cb2",
   "metadata": {},
   "source": [
    "### Acceder a los elementos de un array\n",
    "\n",
    "Los elementos de un **array** son accesibles con los mismos métodos de indexing y slicing de las listas:\n",
    "<img src = \"https://numpy.org/doc/stable/_images/np_indexing.png\" width=\"860\"/>"
   ]
  },
  {
   "cell_type": "code",
   "execution_count": 4,
   "id": "59a853bf",
   "metadata": {
    "scrolled": true
   },
   "outputs": [
    {
     "data": {
      "text/plain": [
       "array([1, 2, 3])"
      ]
     },
     "execution_count": 4,
     "metadata": {},
     "output_type": "execute_result"
    }
   ],
   "source": [
    "v"
   ]
  },
  {
   "cell_type": "code",
   "execution_count": 5,
   "id": "1761e1a2",
   "metadata": {},
   "outputs": [
    {
     "data": {
      "text/plain": [
       "(1, array([1, 2]), array([2, 3]))"
      ]
     },
     "execution_count": 5,
     "metadata": {},
     "output_type": "execute_result"
    }
   ],
   "source": [
    "v[0],v[0:2],v[-2:]"
   ]
  },
  {
   "cell_type": "markdown",
   "id": "7b468374",
   "metadata": {},
   "source": [
    "Los arrays también se pueden indexar con operadores booleanos"
   ]
  },
  {
   "cell_type": "code",
   "execution_count": 6,
   "id": "10424bdf",
   "metadata": {},
   "outputs": [
    {
     "data": {
      "text/plain": [
       "array([ True, False,  True, False])"
      ]
     },
     "execution_count": 6,
     "metadata": {},
     "output_type": "execute_result"
    }
   ],
   "source": [
    "a = np.array([3,1,4,1])\n",
    "a>2"
   ]
  },
  {
   "cell_type": "markdown",
   "id": "e488ea47",
   "metadata": {},
   "source": [
    "Evaluar condiciones en un array devuelve otro array donde los booleanos verdaderos corresponden a las posiciones en las que se cumple la condición, esto es útil como indexación:"
   ]
  },
  {
   "cell_type": "code",
   "execution_count": 7,
   "id": "c08690f6",
   "metadata": {},
   "outputs": [
    {
     "data": {
      "text/plain": [
       "array([3, 4])"
      ]
     },
     "execution_count": 7,
     "metadata": {},
     "output_type": "execute_result"
    }
   ],
   "source": [
    "a[a>2]"
   ]
  },
  {
   "cell_type": "markdown",
   "id": "69aa123c",
   "metadata": {},
   "source": [
    "### Especificar el tipo de datos de un array\n",
    "\n",
    "El data type por default de los elementos de un **array** es el de números decimales o floating points (<font color = red>np.float64</font>). Sin embargo, los **arrays** reciben un segundo parametro para especificar el tipo de datos esperado de los elementos, esto puede servir para optimizar la ejecución del código. Para hacerlo se especifíca explícitamente el data type utilizando el parámetro <font color = red>dtype</font>:"
   ]
  },
  {
   "cell_type": "code",
   "execution_count": 8,
   "id": "22df86b6",
   "metadata": {},
   "outputs": [
    {
     "data": {
      "text/plain": [
       "array([1, 2, 3, 4, 5, 6], dtype=int64)"
      ]
     },
     "execution_count": 8,
     "metadata": {},
     "output_type": "execute_result"
    }
   ],
   "source": [
    "np.array([1,2,3,4,5,6], dtype = np.int64)"
   ]
  },
  {
   "cell_type": "markdown",
   "id": "a0147795",
   "metadata": {},
   "source": [
    "### Más formas de crear arrays\n",
    "\n",
    "Se puede crear un array lleno de 0's con la función ```zeros()```:"
   ]
  },
  {
   "cell_type": "code",
   "execution_count": 9,
   "id": "7407d1d4",
   "metadata": {},
   "outputs": [
    {
     "data": {
      "text/plain": [
       "array([[0., 0., 0.],\n",
       "       [0., 0., 0.],\n",
       "       [0., 0., 0.],\n",
       "       [0., 0., 0.]])"
      ]
     },
     "execution_count": 9,
     "metadata": {},
     "output_type": "execute_result"
    }
   ],
   "source": [
    "np.zeros([4,3])"
   ]
  },
  {
   "cell_type": "markdown",
   "id": "ee9e0e9d",
   "metadata": {},
   "source": [
    "O un array lleno de 1's con la función ```ones()```:"
   ]
  },
  {
   "cell_type": "code",
   "execution_count": 10,
   "id": "d37cda20",
   "metadata": {},
   "outputs": [
    {
     "data": {
      "text/plain": [
       "array([[1, 1, 1, 1],\n",
       "       [1, 1, 1, 1],\n",
       "       [1, 1, 1, 1]], dtype=int64)"
      ]
     },
     "execution_count": 10,
     "metadata": {},
     "output_type": "execute_result"
    }
   ],
   "source": [
    "np.ones([3,4], dtype = np.int64)"
   ]
  },
  {
   "cell_type": "markdown",
   "id": "297cb494",
   "metadata": {},
   "source": [
    "Se puede también crear **arrays 1D** con las funciones ```linspace()``` y ```arange()```, ambas funciones reciben 3 parámetros y en ambas los primeros dos son el límite inferior y superior del array respectivamente. La diferencia consiste en que el tercer parámetro de ```linspace()``` especifíca la cantidad de elementos del array y el tercer parámetro de ```arange()``` especifíca la diferencia entre cada elemento del array:"
   ]
  },
  {
   "cell_type": "code",
   "execution_count": 11,
   "id": "587f913d",
   "metadata": {},
   "outputs": [
    {
     "data": {
      "text/plain": [
       "array([ 1.        ,  1.18367347,  1.36734694,  1.55102041,  1.73469388,\n",
       "        1.91836735,  2.10204082,  2.28571429,  2.46938776,  2.65306122,\n",
       "        2.83673469,  3.02040816,  3.20408163,  3.3877551 ,  3.57142857,\n",
       "        3.75510204,  3.93877551,  4.12244898,  4.30612245,  4.48979592,\n",
       "        4.67346939,  4.85714286,  5.04081633,  5.2244898 ,  5.40816327,\n",
       "        5.59183673,  5.7755102 ,  5.95918367,  6.14285714,  6.32653061,\n",
       "        6.51020408,  6.69387755,  6.87755102,  7.06122449,  7.24489796,\n",
       "        7.42857143,  7.6122449 ,  7.79591837,  7.97959184,  8.16326531,\n",
       "        8.34693878,  8.53061224,  8.71428571,  8.89795918,  9.08163265,\n",
       "        9.26530612,  9.44897959,  9.63265306,  9.81632653, 10.        ])"
      ]
     },
     "execution_count": 11,
     "metadata": {},
     "output_type": "execute_result"
    }
   ],
   "source": [
    "np.linspace(1,10,50)"
   ]
  },
  {
   "cell_type": "code",
   "execution_count": 12,
   "id": "525cef9b",
   "metadata": {},
   "outputs": [
    {
     "data": {
      "text/plain": [
       "array([0.  , 0.05, 0.1 , 0.15, 0.2 , 0.25, 0.3 , 0.35, 0.4 , 0.45, 0.5 ,\n",
       "       0.55, 0.6 , 0.65, 0.7 , 0.75, 0.8 , 0.85, 0.9 , 0.95, 1.  , 1.05,\n",
       "       1.1 , 1.15, 1.2 , 1.25, 1.3 , 1.35, 1.4 , 1.45, 1.5 , 1.55, 1.6 ,\n",
       "       1.65, 1.7 , 1.75, 1.8 , 1.85, 1.9 , 1.95, 2.  , 2.05, 2.1 , 2.15,\n",
       "       2.2 , 2.25, 2.3 , 2.35, 2.4 , 2.45, 2.5 , 2.55, 2.6 , 2.65, 2.7 ,\n",
       "       2.75, 2.8 , 2.85, 2.9 , 2.95, 3.  , 3.05, 3.1 , 3.15, 3.2 , 3.25,\n",
       "       3.3 , 3.35, 3.4 , 3.45, 3.5 , 3.55, 3.6 , 3.65, 3.7 , 3.75, 3.8 ,\n",
       "       3.85, 3.9 , 3.95, 4.  , 4.05, 4.1 , 4.15, 4.2 , 4.25, 4.3 , 4.35,\n",
       "       4.4 , 4.45, 4.5 , 4.55, 4.6 , 4.65, 4.7 , 4.75, 4.8 , 4.85, 4.9 ,\n",
       "       4.95])"
      ]
     },
     "execution_count": 12,
     "metadata": {},
     "output_type": "execute_result"
    }
   ],
   "source": [
    "np.arange(0,5,0.05)"
   ]
  },
  {
   "cell_type": "markdown",
   "id": "a03af9de",
   "metadata": {},
   "source": [
    "También se pueden crear **arrays** a partir de datos ya existentes, la función ```concatenate()``` recibe una tupla de arrays que puede concatenar:"
   ]
  },
  {
   "cell_type": "code",
   "execution_count": 13,
   "id": "dff01500",
   "metadata": {},
   "outputs": [
    {
     "data": {
      "text/plain": [
       "array([1, 2, 3, 4, 5, 5, 6, 7, 8, 9])"
      ]
     },
     "execution_count": 13,
     "metadata": {},
     "output_type": "execute_result"
    }
   ],
   "source": [
    "a = np.array([1,2,3,4,5])\n",
    "b = np.array([5,6,7,8,9])\n",
    "np.concatenate((a,b))"
   ]
  },
  {
   "cell_type": "markdown",
   "id": "d9841394",
   "metadata": {},
   "source": [
    "```concatenate()``` también es aplicable a matrices, el parámetro ```axis``` indica en qué eje se va a concatenar:"
   ]
  },
  {
   "cell_type": "code",
   "execution_count": 14,
   "id": "4501aed0",
   "metadata": {},
   "outputs": [
    {
     "name": "stdout",
     "output_type": "stream",
     "text": [
      "\n",
      "Si se concatena en el primer eje:\n",
      " [[3 1]\n",
      " [4 1]\n",
      " [5 9]\n",
      " [2 6]]\n",
      "\n",
      "Si se concatena en el segundo eje:\n",
      " [[3 1 5 9]\n",
      " [4 1 2 6]]\n"
     ]
    }
   ],
   "source": [
    "x = np.array([[3,1],[4,1]])\n",
    "y = np.array([[5,9],[2,6]])\n",
    "print()\n",
    "print(\"Si se concatena en el primer eje:\\n\", np.concatenate((x,y),axis=0) )\n",
    "print(\"\\nSi se concatena en el segundo eje:\\n\", np.concatenate((x,y),axis=1) )"
   ]
  },
  {
   "cell_type": "markdown",
   "id": "c4287b6e",
   "metadata": {},
   "source": [
    "Si *```x```* y *```y```* tuvieran diferente dimensión, es indispensable especificar el eje en que se va a concatenar y que las dimensiones de la matriz final sean coherentes:"
   ]
  },
  {
   "cell_type": "code",
   "execution_count": 15,
   "id": "1bd2e378",
   "metadata": {},
   "outputs": [
    {
     "data": {
      "text/plain": [
       "array([[3, 1],\n",
       "       [4, 1],\n",
       "       [5, 9],\n",
       "       [2, 6]])"
      ]
     },
     "execution_count": 15,
     "metadata": {},
     "output_type": "execute_result"
    }
   ],
   "source": [
    "x2 = np.array([[3,1],[4,1]])\n",
    "y2 = np.array([[5,9]])\n",
    "np.concatenate((x2,y),axis=0)"
   ]
  },
  {
   "cell_type": "markdown",
   "id": "b692b220",
   "metadata": {},
   "source": [
    "De lo contrario el intérprete retornará el error:\n",
    "\n",
    "**<font color='red'>ValueError</font>:** all the input array dimensions for the concatenation axis must match exactly, but along dimension 0, the array at index 0 has size 2 and the array at index 1 has size 1\n",
    "\n",
    "Otros métodos para crear **arrays** a partir de otros que ya existan utilizan los métodos de slicing e indexing, por ejemplo:"
   ]
  },
  {
   "cell_type": "code",
   "execution_count": 16,
   "id": "76796c12",
   "metadata": {},
   "outputs": [
    {
     "data": {
      "text/plain": [
       "array([4, 5, 6, 7, 8])"
      ]
     },
     "execution_count": 16,
     "metadata": {},
     "output_type": "execute_result"
    }
   ],
   "source": [
    "a = np.array([1,2,3,4,5,6,7,8,9,10])\n",
    "np.array(a[3:8])"
   ]
  },
  {
   "cell_type": "markdown",
   "id": "8eaa3b03",
   "metadata": {},
   "source": [
    "Este último método también es el más eficiente para eliminar elementos de un **array**. Otra forma de concatenar matrices de igual dimensión menos complicada que la función ```concatenate()```, son las funciones de apilar verticalmente: ```vstack()``` y apilar horizontalmente: ```hstack()```. Esto ayuda a no tener que pensar mucho en el eje de concatenación."
   ]
  },
  {
   "cell_type": "code",
   "execution_count": 17,
   "id": "cdbe8e10",
   "metadata": {},
   "outputs": [
    {
     "data": {
      "text/plain": [
       "array([[3, 1],\n",
       "       [4, 1],\n",
       "       [5, 9],\n",
       "       [2, 6]])"
      ]
     },
     "execution_count": 17,
     "metadata": {},
     "output_type": "execute_result"
    }
   ],
   "source": [
    "np.vstack((x,y))"
   ]
  },
  {
   "cell_type": "code",
   "execution_count": 18,
   "id": "f6fc3ae9",
   "metadata": {},
   "outputs": [
    {
     "data": {
      "text/plain": [
       "array([[3, 1, 5, 9],\n",
       "       [4, 1, 2, 6]])"
      ]
     },
     "execution_count": 18,
     "metadata": {},
     "output_type": "execute_result"
    }
   ],
   "source": [
    "np.hstack((x,y))"
   ]
  },
  {
   "cell_type": "markdown",
   "id": "dca2d9ab",
   "metadata": {},
   "source": [
    "También es posible crear múltiples **arrays** de uno solo utilizando las funciones de dividir verticalmente: ```vstack()``` y dividir horizontalmente: ```hstack()```:"
   ]
  },
  {
   "cell_type": "code",
   "execution_count": 19,
   "id": "f7ca18b5",
   "metadata": {},
   "outputs": [
    {
     "data": {
      "text/plain": [
       "array([[3, 1, 4, 1, 5, 9, 2, 6],\n",
       "       [5, 3, 5, 8, 9, 7, 9, 3],\n",
       "       [2, 3, 8, 4, 6, 2, 6, 4],\n",
       "       [3, 3, 8, 3, 2, 7, 9, 5],\n",
       "       [0, 2, 8, 8, 4, 1, 9, 7]])"
      ]
     },
     "execution_count": 19,
     "metadata": {},
     "output_type": "execute_result"
    }
   ],
   "source": [
    "M = np.array([[3,1,4,1,5,9,2,6],[5,3,5,8,9,7,9,3],[2,3,8,4,6,2,6,4],[3,3,8,3,2,7,9,5],[0,2,8,8,4,1,9,7]])\n",
    "M"
   ]
  },
  {
   "cell_type": "markdown",
   "id": "ea588a2d",
   "metadata": {},
   "source": [
    "```M``` se podría separar verticalmente en dos **arrays** del mismo tamaño con:"
   ]
  },
  {
   "cell_type": "code",
   "execution_count": 20,
   "id": "92c7c5bc",
   "metadata": {},
   "outputs": [
    {
     "data": {
      "text/plain": [
       "[array([[3, 1, 4, 1],\n",
       "        [5, 3, 5, 8],\n",
       "        [2, 3, 8, 4],\n",
       "        [3, 3, 8, 3],\n",
       "        [0, 2, 8, 8]]),\n",
       " array([[5, 9, 2, 6],\n",
       "        [9, 7, 9, 3],\n",
       "        [6, 2, 6, 4],\n",
       "        [2, 7, 9, 5],\n",
       "        [4, 1, 9, 7]])]"
      ]
     },
     "execution_count": 20,
     "metadata": {},
     "output_type": "execute_result"
    }
   ],
   "source": [
    "np.hsplit(M,2)"
   ]
  },
  {
   "cell_type": "markdown",
   "id": "6d676c40",
   "metadata": {},
   "source": [
    "O usando una tupla se podría dividir horizontalmente en 3 **arrays** con las posiciones indicadas en la tupla:"
   ]
  },
  {
   "cell_type": "code",
   "execution_count": 21,
   "id": "e0a4bb1c",
   "metadata": {},
   "outputs": [
    {
     "data": {
      "text/plain": [
       "[array([[3, 1],\n",
       "        [5, 3],\n",
       "        [2, 3],\n",
       "        [3, 3],\n",
       "        [0, 2]]),\n",
       " array([[4, 1, 5, 9],\n",
       "        [5, 8, 9, 7],\n",
       "        [8, 4, 6, 2],\n",
       "        [8, 3, 2, 7],\n",
       "        [8, 8, 4, 1]]),\n",
       " array([[2, 6],\n",
       "        [9, 3],\n",
       "        [6, 4],\n",
       "        [9, 5],\n",
       "        [9, 7]])]"
      ]
     },
     "execution_count": 21,
     "metadata": {},
     "output_type": "execute_result"
    }
   ],
   "source": [
    "np.hsplit(M,(2,6)) # Un array corresponde a los elementos previos a la posición 2, el siguiente a los elementos entre las\n",
    "                   # posiciones 2 y 6, y el último a los elementos de la posición 6 en adelante."
   ]
  },
  {
   "cell_type": "markdown",
   "id": "75cf1192",
   "metadata": {},
   "source": [
    "Estos mismos métodos se pueden aplicar verticalmente:"
   ]
  },
  {
   "cell_type": "code",
   "execution_count": 22,
   "id": "37bccb4b",
   "metadata": {},
   "outputs": [
    {
     "data": {
      "text/plain": [
       "[array([[3, 1, 4, 1, 5, 9, 2, 6],\n",
       "        [5, 3, 5, 8, 9, 7, 9, 3]]),\n",
       " array([[2, 3, 8, 4, 6, 2, 6, 4]]),\n",
       " array([[3, 3, 8, 3, 2, 7, 9, 5],\n",
       "        [0, 2, 8, 8, 4, 1, 9, 7]])]"
      ]
     },
     "execution_count": 22,
     "metadata": {},
     "output_type": "execute_result"
    }
   ],
   "source": [
    "np.vsplit(M,(2,3))"
   ]
  },
  {
   "cell_type": "markdown",
   "id": "6cec8bc9",
   "metadata": {},
   "source": [
    "### Reestructurar arrays\n",
    "\n",
    "Se pueden modificar las dimensiones de un array con el atributo ```reshape()```, es importante que el número de elementos del array inicial y final coincidan."
   ]
  },
  {
   "cell_type": "code",
   "execution_count": 23,
   "id": "b7748138",
   "metadata": {},
   "outputs": [
    {
     "data": {
      "text/plain": [
       "array([0, 1, 2, 3, 4, 5])"
      ]
     },
     "execution_count": 23,
     "metadata": {},
     "output_type": "execute_result"
    }
   ],
   "source": [
    "a = np.arange(6)\n",
    "a"
   ]
  },
  {
   "cell_type": "code",
   "execution_count": 24,
   "id": "b00ad734",
   "metadata": {},
   "outputs": [
    {
     "data": {
      "text/plain": [
       "array([[0, 1],\n",
       "       [2, 3],\n",
       "       [4, 5]])"
      ]
     },
     "execution_count": 24,
     "metadata": {},
     "output_type": "execute_result"
    }
   ],
   "source": [
    "b = a.reshape(3,2)\n",
    "b"
   ]
  },
  {
   "cell_type": "markdown",
   "id": "8b29d39d",
   "metadata": {},
   "source": [
    "## Operaciones con arrays\n",
    "\n",
    "Los arrays soportan operadores como sumas:\n",
    "\n",
    "<img src = \"https://numpy.org/doc/stable/_images/np_data_plus_ones.png\" width=\"720\"/>"
   ]
  },
  {
   "cell_type": "code",
   "execution_count": 25,
   "id": "e6b10373",
   "metadata": {},
   "outputs": [
    {
     "data": {
      "text/plain": [
       "array([2, 3])"
      ]
     },
     "execution_count": 25,
     "metadata": {},
     "output_type": "execute_result"
    }
   ],
   "source": [
    "data = np.array([1, 2])\n",
    "ones = np.ones(2, dtype=int)\n",
    "data + ones"
   ]
  },
  {
   "cell_type": "markdown",
   "id": "9a143349",
   "metadata": {},
   "source": [
    "Y por supuesto, muchos otros operadores aritméticos:\n",
    "<img src = \"https://numpy.org/doc/stable/_images/np_sub_mult_divide.png\" width=\"720\"/>\n",
    "\n",
    "Si se quisiera hallar la suma de los elementos de un array, existe la función ```sum()```:"
   ]
  },
  {
   "cell_type": "code",
   "execution_count": 26,
   "id": "241c109d",
   "metadata": {},
   "outputs": [
    {
     "data": {
      "text/plain": [
       "10"
      ]
     },
     "execution_count": 26,
     "metadata": {},
     "output_type": "execute_result"
    }
   ],
   "source": [
    "a = np.array([1,2,3,4])\n",
    "np.sum(a)"
   ]
  },
  {
   "cell_type": "markdown",
   "id": "0f387506",
   "metadata": {},
   "source": [
    "Los arrays de más de una dimensión también soportan esta operación, para saber la suma de las columnas o filas de una matriz simplemente se utilizaría el parámetro ```axis```"
   ]
  },
  {
   "cell_type": "code",
   "execution_count": 27,
   "id": "9a3e7658",
   "metadata": {},
   "outputs": [
    {
     "data": {
      "text/plain": [
       "6"
      ]
     },
     "execution_count": 27,
     "metadata": {},
     "output_type": "execute_result"
    }
   ],
   "source": [
    "a = np.array([[1,1],[2,2]])\n",
    "np.sum(a)"
   ]
  },
  {
   "cell_type": "code",
   "execution_count": 28,
   "id": "1354a085",
   "metadata": {},
   "outputs": [
    {
     "data": {
      "text/plain": [
       "array([3, 3])"
      ]
     },
     "execution_count": 28,
     "metadata": {},
     "output_type": "execute_result"
    }
   ],
   "source": [
    "np.sum(a,axis = 0)"
   ]
  },
  {
   "cell_type": "code",
   "execution_count": 29,
   "id": "5bff0256",
   "metadata": {},
   "outputs": [
    {
     "data": {
      "text/plain": [
       "array([2, 4])"
      ]
     },
     "execution_count": 29,
     "metadata": {},
     "output_type": "execute_result"
    }
   ],
   "source": [
    "np.sum(a,axis = 1)"
   ]
  },
  {
   "cell_type": "markdown",
   "id": "0ab5cfe1",
   "metadata": {},
   "source": [
    "Al igual que los vectores, los arrays de cualquier dimensión soportan multiplicación por un escalar\n",
    "<img src = \"https://numpy.org/doc/stable/_images/np_multiply_broadcasting.png\" width=\"720\"/>"
   ]
  },
  {
   "cell_type": "code",
   "execution_count": 30,
   "id": "5ade1792",
   "metadata": {},
   "outputs": [
    {
     "data": {
      "text/plain": [
       "array([1.6, 3.2])"
      ]
     },
     "execution_count": 30,
     "metadata": {},
     "output_type": "execute_result"
    }
   ],
   "source": [
    "data = np.array([1.0, 2.0])\n",
    "data * 1.6"
   ]
  },
  {
   "cell_type": "code",
   "execution_count": 31,
   "id": "580ac70f",
   "metadata": {},
   "outputs": [
    {
     "data": {
      "text/plain": [
       "array([[6, 2],\n",
       "       [8, 2]])"
      ]
     },
     "execution_count": 31,
     "metadata": {},
     "output_type": "execute_result"
    }
   ],
   "source": [
    "data = np.array([[3,1],[4,1]])\n",
    "data * 2"
   ]
  },
  {
   "cell_type": "markdown",
   "id": "c3d50ce3",
   "metadata": {},
   "source": [
    "Los arrays también tienen muchas operaciones útiles como hallar el elemento de mayor o menor valor, el producto de todos los elementos, media, moda, mediana, desviación estándar y muchas más"
   ]
  },
  {
   "cell_type": "code",
   "execution_count": 32,
   "id": "90e993d5",
   "metadata": {},
   "outputs": [
    {
     "name": "stdout",
     "output_type": "stream",
     "text": [
      "Max = 0.82485143 Min = 0.05093587 Product of all elements = 1.4517216120884712e-06 Mean = 0.4049648666666667 Standard deviation = 0.21392120766089617\n"
     ]
    }
   ],
   "source": [
    "a = np.array([[0.45053314, 0.17296777, 0.34376245, 0.5510652],\n",
    "              [0.54627315, 0.05093587, 0.40067661, 0.55645993],\n",
    "              [0.12697628, 0.82485143, 0.26590556, 0.56917101]])\n",
    "\n",
    "print('Max =',a.max(),'Min =',a.min(),'Product of all elements =',a.prod(),'Mean =',a.mean(),'Standard deviation =',a.std())"
   ]
  },
  {
   "cell_type": "markdown",
   "id": "45f6880c",
   "metadata": {},
   "source": [
    "Estas operaciones también pueden ser aplicadas por fila o columna:"
   ]
  },
  {
   "cell_type": "code",
   "execution_count": 33,
   "id": "4daa4636",
   "metadata": {},
   "outputs": [
    {
     "data": {
      "text/plain": [
       "array([0.37459419, 0.34958502, 0.33678154, 0.55889871])"
      ]
     },
     "execution_count": 33,
     "metadata": {},
     "output_type": "execute_result"
    }
   ],
   "source": [
    "a.mean(axis= 0)"
   ]
  },
  {
   "cell_type": "markdown",
   "id": "59c1b224",
   "metadata": {},
   "source": [
    "Los arrays matrices soportan operaciones de álgebra lineal como transposición, para esto existen las opciones ```array.T``` o ```array.transpose()```:\n",
    "<img src = \"https://numpy.org/doc/stable/_images/np_transposing_reshaping.png\" width=\"720\"/>"
   ]
  },
  {
   "cell_type": "code",
   "execution_count": 34,
   "id": "649ff2ec",
   "metadata": {},
   "outputs": [
    {
     "data": {
      "text/plain": [
       "array([[1, 2],\n",
       "       [3, 4],\n",
       "       [5, 6]])"
      ]
     },
     "execution_count": 34,
     "metadata": {},
     "output_type": "execute_result"
    }
   ],
   "source": [
    "M = np.array([[1,2],\n",
    "              [3,4],\n",
    "              [5,6]])\n",
    "M"
   ]
  },
  {
   "cell_type": "code",
   "execution_count": 35,
   "id": "dcab6d6b",
   "metadata": {},
   "outputs": [
    {
     "data": {
      "text/plain": [
       "array([[1, 3, 5],\n",
       "       [2, 4, 6]])"
      ]
     },
     "execution_count": 35,
     "metadata": {},
     "output_type": "execute_result"
    }
   ],
   "source": [
    "M.T"
   ]
  },
  {
   "cell_type": "markdown",
   "id": "bdacb50f",
   "metadata": {},
   "source": [
    "También es posible invertir el orden de elemento de los arrays:"
   ]
  },
  {
   "cell_type": "code",
   "execution_count": 36,
   "id": "f51b0da9",
   "metadata": {},
   "outputs": [
    {
     "data": {
      "text/plain": [
       "array([8, 7, 6, 5, 4, 3, 2, 1])"
      ]
     },
     "execution_count": 36,
     "metadata": {},
     "output_type": "execute_result"
    }
   ],
   "source": [
    "arr = np.array([1, 2, 3, 4, 5, 6, 7, 8])\n",
    "np.flip(arr)"
   ]
  },
  {
   "cell_type": "code",
   "execution_count": 37,
   "id": "1636b2a4",
   "metadata": {},
   "outputs": [
    {
     "data": {
      "text/plain": [
       "array([[12, 11, 10,  9],\n",
       "       [ 8,  7,  6,  5],\n",
       "       [ 4,  3,  2,  1]])"
      ]
     },
     "execution_count": 37,
     "metadata": {},
     "output_type": "execute_result"
    }
   ],
   "source": [
    "arr_2d = np.array([[1, 2, 3, 4], [5, 6, 7, 8], [9, 10, 11, 12]])\n",
    "np.flip(arr_2d)"
   ]
  },
  {
   "cell_type": "code",
   "execution_count": 38,
   "id": "6d92102a",
   "metadata": {},
   "outputs": [
    {
     "data": {
      "text/plain": [
       "array([[ 9, 10, 11, 12],\n",
       "       [ 5,  6,  7,  8],\n",
       "       [ 1,  2,  3,  4]])"
      ]
     },
     "execution_count": 38,
     "metadata": {},
     "output_type": "execute_result"
    }
   ],
   "source": [
    "np.flip(arr_2d,axis = 0)"
   ]
  },
  {
   "cell_type": "markdown",
   "id": "9f0b84f0",
   "metadata": {},
   "source": [
    "Adicional a todas las anteriores propiedades en común, invertir arrays 2D puede hacerse en un único eje:"
   ]
  },
  {
   "cell_type": "code",
   "execution_count": 39,
   "id": "ad355b0a",
   "metadata": {},
   "outputs": [
    {
     "data": {
      "text/plain": [
       "array([[ 1,  2,  3,  4],\n",
       "       [ 8,  7,  6,  5],\n",
       "       [ 9, 10, 11, 12]])"
      ]
     },
     "execution_count": 39,
     "metadata": {},
     "output_type": "execute_result"
    }
   ],
   "source": [
    "arr_2d[1] = np.flip(arr_2d[1]) # Invierte el orden de los elementos de la segunda fila\n",
    "arr_2d"
   ]
  },
  {
   "cell_type": "code",
   "execution_count": 40,
   "id": "fd6d8de7",
   "metadata": {},
   "outputs": [
    {
     "data": {
      "text/plain": [
       "array([[ 1, 10,  3,  4],\n",
       "       [ 8,  7,  6,  5],\n",
       "       [ 9,  2, 11, 12]])"
      ]
     },
     "execution_count": 40,
     "metadata": {},
     "output_type": "execute_result"
    }
   ],
   "source": [
    "arr_2d[:,1] = np.flip(arr_2d[:,1]) # Invierte el orden de los elementos de la segunda columna\n",
    "arr_2d"
   ]
  },
  {
   "cell_type": "markdown",
   "id": "0e2e88c5",
   "metadata": {},
   "source": [
    "Otra operación útil es aplanar arrays de varias dimensiones en una sola dimensión, para esto existe la función ```.flatten()``` que crea una copia de una sola dimensión, o la función ```.ravel()``` que modifica el array original, computacionalmente más eficiente dado que no necesita almacenar la copia."
   ]
  },
  {
   "cell_type": "code",
   "execution_count": 41,
   "id": "90c44880",
   "metadata": {},
   "outputs": [
    {
     "data": {
      "text/plain": [
       "array([ 1, 10,  3,  4,  8,  7,  6,  5,  9,  2, 11, 12])"
      ]
     },
     "execution_count": 41,
     "metadata": {},
     "output_type": "execute_result"
    }
   ],
   "source": [
    "arr_2d.ravel()"
   ]
  }
 ],
 "metadata": {
  "kernelspec": {
   "display_name": "Python 3 (ipykernel)",
   "language": "python",
   "name": "python3"
  },
  "language_info": {
   "codemirror_mode": {
    "name": "ipython",
    "version": 3
   },
   "file_extension": ".py",
   "mimetype": "text/x-python",
   "name": "python",
   "nbconvert_exporter": "python",
   "pygments_lexer": "ipython3",
   "version": "3.9.7"
  }
 },
 "nbformat": 4,
 "nbformat_minor": 5
}
